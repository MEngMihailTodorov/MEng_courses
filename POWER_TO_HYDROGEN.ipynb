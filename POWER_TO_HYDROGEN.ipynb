{
 "cells": [
  {
   "cell_type": "markdown",
   "id": "71e32930",
   "metadata": {},
   "source": [
    "# Power to Hydrogen Calculation Procedure"
   ]
  },
  {
   "cell_type": "code",
   "execution_count": 32,
   "id": "0e62a1a6",
   "metadata": {},
   "outputs": [],
   "source": [
    "import math\n",
    "import numpy as np\n"
   ]
  },
  {
   "cell_type": "code",
   "execution_count": 1,
   "id": "56eb4fcf",
   "metadata": {},
   "outputs": [],
   "source": [
    "# the charge Q in [Coulombs, C] is equal to the current I [Ampers, A] multiplied by time t [seconds, s]\n",
    "\n",
    "def calculate_charge_Q(I, t):\n",
    "    return I * t\n",
    "\n",
    "# Faraday's Constant F is equal to Na (Avogadro's Number [electrons/mol]) multiplied by qe (the charge of\n",
    "# a single electron [C/electron])\n",
    "#\n",
    "# Na = 6 * 10e23\n",
    "# qe = 1.6 * 10e-19\n",
    "\n",
    "def calculate_current_I(Q, t):\n",
    "    return Q / t\n",
    "\n",
    "def return_faraday_constant_F():\n",
    "    return float((6.022e23 * 1.602e-19))"
   ]
  },
  {
   "cell_type": "code",
   "execution_count": 2,
   "id": "3a6fe792",
   "metadata": {},
   "outputs": [
    {
     "name": "stdout",
     "output_type": "stream",
     "text": [
      "96472.44\n"
     ]
    }
   ],
   "source": [
    "print(return_faraday_constant_F())"
   ]
  },
  {
   "cell_type": "markdown",
   "id": "5862a0c3",
   "metadata": {},
   "source": [
    "## Faraday's Law (of Electrolysis)\n",
    "\n",
    "The amount of substance produced at each electrode is directly proportional to the quantity of charge flowing through the cell. Faraday's law connects the produced mass with the generated electrical charge"
   ]
  },
  {
   "cell_type": "code",
   "execution_count": 3,
   "id": "40d1a1f7",
   "metadata": {},
   "outputs": [],
   "source": [
    "# the valency z expresses the number of electron moles that can be used to combine with another atom (z = 2\n",
    "# for the case of water electrolysis )\n",
    "\n",
    "z_valency = 2 \n",
    "\n",
    "def calculate_ns(z, Q):\n",
    "    return round((Q / (z * return_faraday_constant_F())), 3)"
   ]
  },
  {
   "cell_type": "markdown",
   "id": "691450ca",
   "metadata": {},
   "source": [
    "## Thermodynamics of water electrolysis\n",
    "\n",
    "Enthalpy variadion delta H, represents the energy needed for electrolysis and is the multiplication of the Gibbs Free energy delta G and the Temperature T multiplied by the change of entropy delta S. \n",
    "\n",
    "delta H is 286 kJ/mol at normal conditions of p = 1 bar pressure and T = 25 degrees Celsius. \n"
   ]
  },
  {
   "cell_type": "code",
   "execution_count": 4,
   "id": "2ac77b85",
   "metadata": {},
   "outputs": [],
   "source": [
    "def return_enthalpy():\n",
    "    return int(237 + 49) * 1000 # kJ/mol -> meaning we need to multiply by 1000 for J/mol"
   ]
  },
  {
   "cell_type": "markdown",
   "id": "107faa73",
   "metadata": {},
   "source": [
    "### Gibbs free energy\n",
    "The Gibbs free energy delta G is related to the voltage needed to decompose the water molecule, the so-called reversible voltage (E_rev), which is 1.23 V at standart condition (1bar, 298K).\n",
    "\n",
    "E_rev = reversible voltage, usually 1,23V\n",
    "F = Faraday's constant - 96,485 C/mol\n",
    "n = number of electrons exchange in the electrolysis reaction (in moles)\n"
   ]
  },
  {
   "cell_type": "code",
   "execution_count": 5,
   "id": "545b605e",
   "metadata": {},
   "outputs": [],
   "source": [
    "E_rev = 1.23\n",
    "F = return_faraday_constant_F()\n",
    "n = 2 # the number of electrons exchanged in electrolysis is 2 in moles in this case for 1 mol of hydrogen\n",
    "H = return_enthalpy()\n",
    "\n",
    "\n",
    "def return_gibbs_free_energy_G():\n",
    "    return F * E_rev * n\n",
    "\n",
    "def return_voltaged_required_no_external_heat_V_0_th():\n",
    "    return H / (F * n)\n"
   ]
  },
  {
   "cell_type": "code",
   "execution_count": 6,
   "id": "b590d20a",
   "metadata": {},
   "outputs": [
    {
     "name": "stdout",
     "output_type": "stream",
     "text": [
      "1.482288620459895\n"
     ]
    }
   ],
   "source": [
    "print(return_voltaged_required_no_external_heat_V_0_th()) # this is the correct value of \n",
    "#V_0_th = 1.482 V"
   ]
  },
  {
   "cell_type": "code",
   "execution_count": null,
   "id": "2424187f",
   "metadata": {},
   "outputs": [],
   "source": []
  },
  {
   "cell_type": "code",
   "execution_count": null,
   "id": "1003ba3f",
   "metadata": {},
   "outputs": [],
   "source": []
  },
  {
   "cell_type": "code",
   "execution_count": null,
   "id": "da6b4e5c",
   "metadata": {},
   "outputs": [],
   "source": []
  },
  {
   "cell_type": "markdown",
   "id": "8ce6a290",
   "metadata": {},
   "source": [
    "## Tutorial 1 - Power to Hydrogen"
   ]
  },
  {
   "cell_type": "markdown",
   "id": "165e5fc3",
   "metadata": {},
   "source": [
    "Example 1 - What current needs to flow through an electrolyser to deposit 3g of hydrogen in 20 minutes?"
   ]
  },
  {
   "cell_type": "code",
   "execution_count": 7,
   "id": "c3be0cbe",
   "metadata": {},
   "outputs": [
    {
     "name": "stdout",
     "output_type": "stream",
     "text": [
      "289417.32\n",
      "241.18110000000001\n"
     ]
    }
   ],
   "source": [
    "t = 20 * 60 # in seconds\n",
    "m = 3 # grams of hydrogen to be deposited\n",
    "hydrogen_grams_per_mol = 2 # grams/mol\n",
    "\n",
    "moles_hydrogen_needed = m / hydrogen_grams_per_mol\n",
    "\n",
    "Q = moles_hydrogen_needed * n * F\n",
    "print(Q)\n",
    "\n",
    "I = calculate_current_I(Q, t) # in Ampers\n",
    "print(I)"
   ]
  },
  {
   "cell_type": "markdown",
   "id": "42337086",
   "metadata": {},
   "source": [
    "Example 2 - How much hydrogen will be deposited if a current of 15A is passed through the electrolyer for 20 minutes?\n",
    "\n",
    "* two moles of electrons will be required to deposit each mole of hydrogen"
   ]
  },
  {
   "cell_type": "code",
   "execution_count": 8,
   "id": "b7b6473c",
   "metadata": {},
   "outputs": [
    {
     "name": "stdout",
     "output_type": "stream",
     "text": [
      "0.09\n",
      "0.19\n"
     ]
    }
   ],
   "source": [
    "I = 15 # A\n",
    "t = 20 * 60 # s\n",
    "\n",
    "Q = calculate_charge_Q(I, t)\n",
    "\n",
    "\n",
    "n_h2 =  calculate_ns(z_valency, Q) # moles of hydrogen will be deposited\n",
    "print(round(n_h2, 2))\n",
    "\n",
    "m = n_h2 * n # grams of h2 that will be deposited where n_h2 is the moles and n is the g/mol, which is 2 \n",
    "print(round(m, 2))\n"
   ]
  },
  {
   "cell_type": "markdown",
   "id": "10d66062",
   "metadata": {},
   "source": [
    "Example 3 - Cell Polymer Electrolyte Membrane (PEM) electrolyser with 100% efficiency, operated at voltage 2V with 18kA current. Assuming that the enthalpy change of the reaction is independent of temperature, calculate hydrogen production rate [kg/h] , consumption rate of feed water [kg/h] , the amount of power transformed into heat and released by the system [J/s].\n",
    "\n",
    "* to produce 1 kmol of H2 is equivalent to consume 1 mol of H20 and involves 2 moles of electrons."
   ]
  },
  {
   "cell_type": "code",
   "execution_count": 9,
   "id": "7d4af4b2",
   "metadata": {},
   "outputs": [
    {
     "name": "stdout",
     "output_type": "stream",
     "text": [
      "64800000.0\n",
      "335.8472119083958\n",
      "0.6716944238167917\n"
     ]
    }
   ],
   "source": [
    "I = 1.8e4\n",
    "z_valency = 2\n",
    "t = 3600\n",
    "V = 2 # Operating voltage [V]\n",
    "\n",
    "Q_for_1_hour = I * t  # c/ mol of H2 for 1 hour\n",
    "print(Q_for_1_hour)\n",
    "\n",
    "n_h2 = Q_for_1_hour / (z_valency * return_faraday_constant_F())\n",
    "print(n_h2)\n",
    "\n",
    "n_h2_kg_per_hour = n_h2 * hydrogen_grams_per_mol / 1000\n",
    "print(n_h2_kg_per_hour)\n"
   ]
  },
  {
   "cell_type": "code",
   "execution_count": 10,
   "id": "b81727a5",
   "metadata": {},
   "outputs": [
    {
     "name": "stdout",
     "output_type": "stream",
     "text": [
      "36000.0\n",
      "9318.804831721889\n"
     ]
    }
   ],
   "source": [
    "def calculate_cell_power_output(V, I):\n",
    "    return V * I\n",
    "\n",
    "def calculate_heat_produced(V, I):\n",
    "    return (V - return_voltaged_required_no_external_heat_V_0_th()) * I\n",
    "\n",
    "P_cell = calculate_cell_power_output(V, I)\n",
    "print(P_cell) # Watts\n",
    "# when the voltage V_cell is equalt to V_0_th then the electrolysis process proceeds without any heat \n",
    "# exchanged at RTP (Room Temperature and Pressure)\n",
    "\n",
    "P_transformed_to_heat = calculate_heat_produced(V, I)\n",
    "print(P_transformed_to_heat)"
   ]
  },
  {
   "cell_type": "markdown",
   "id": "fe054a6d",
   "metadata": {},
   "source": [
    "Exercise 4 - The current passing through a 20-cell electrolytic stack amounts to 300A with a total voltage of 40V. Calculate:\n",
    "* The hydrogen (H2) production rate of the stack\n",
    "* The heat power generated by the stack\n"
   ]
  },
  {
   "cell_type": "code",
   "execution_count": 11,
   "id": "fa3a657c",
   "metadata": {},
   "outputs": [
    {
     "name": "stdout",
     "output_type": "stream",
     "text": [
      "0.031096964065592203\n",
      "3106.2682772406297\n"
     ]
    }
   ],
   "source": [
    "F = return_faraday_constant_F()\n",
    "z = 2 # valency electrons exchanged\n",
    "number_cells = 20.\n",
    "I = 300 # ampers [A]\n",
    "t = 1 # seconds [s]\n",
    "Q = I * t # Coulombs [C]\n",
    "\n",
    "def get_n_h2(Q, F, z):\n",
    "    return Q / (n * F)\n",
    "\n",
    "n_h2_total_stack = number_cells * float(get_n_h2(Q, F, z))\n",
    "print(n_h2_total_stack)\n",
    "\n",
    "\n",
    "heat_power_generated = (V - return_voltaged_required_no_external_heat_V_0_th()) * number_cells * I\n",
    "print(heat_power_generated) # Watts [W] of power are generated by the whole stack of cells - the power is \n",
    "# the Voltage [V] multiplied by the Current [I], while we have to remove the voltage associated with\n",
    "# no external heat generation for a single cell which is V_0_th ~ 1.482"
   ]
  },
  {
   "cell_type": "markdown",
   "id": "8669c049",
   "metadata": {},
   "source": [
    "Exercise 5. An ideal PEM electrolyser operating at 60 oC, produces hydrogen and oxygen at P=1 atm. It draws a current of 400 A and produces hydrogen at a rate of 4.15 × 10-5 kmol/sec. What is the production rate if the operating temperature is raised to 85 degrees Celsius and the pressure is tripled if the current used is still 400A?"
   ]
  },
  {
   "cell_type": "markdown",
   "id": "e3e452bd",
   "metadata": {},
   "source": [
    "The production rate of hydrogen is only a function of the current of the PEM electrolyser and its operating temperature as well as pressure have no impact on the production rate, which in this case remains constant.\n",
    "\n"
   ]
  },
  {
   "cell_type": "code",
   "execution_count": 12,
   "id": "ded6432d",
   "metadata": {},
   "outputs": [
    {
     "name": "stdout",
     "output_type": "stream",
     "text": [
      "4.146261875412294e-06\n"
     ]
    }
   ],
   "source": [
    "I = 400 # ampers [A]\n",
    "z = 2 # valency electrons exchanged\n",
    "t = 1 # seconds [s]\n",
    "Q = I * t # Coulombs [C]\n",
    "\n",
    "n_h2 = Q / (return_faraday_constant_F() * z) * 2 / 1000 # kg/s\n",
    "print(n_h2)"
   ]
  },
  {
   "cell_type": "markdown",
   "id": "5f27c948",
   "metadata": {},
   "source": [
    "An electrolyser stack consists of 120 cells, each with 1 m2 of effective area. When J = 1000 A/m2, the voltage required by each cell is 1.7 V. The electrolyser is installed in a cubical room (2.5 m edge) whose walls, floor and ceiling have a U-value of 45 W/m2K. Assume that the room has no other source or sink of heat. The outside temperature is 25 oC. When a current of 1000 A is applied through the cells, calculate:\n",
    "* The amount of H2 (kg) produced per day.\n",
    "* The amount of O2 (kg) produced per day.\n",
    "* The amount of H2O (kg) consumed per day.\n",
    "* The temperature of the room at equilibrium.\n",
    "\n",
    "U-value is the amount of heat energy that moves through the wall, floor and ceiling from the warm (heated) side to the cold side (in Watts per square meter of construction, per degree of temperature difference between one side and the other in Kelvin)."
   ]
  },
  {
   "cell_type": "code",
   "execution_count": 19,
   "id": "38282cbe",
   "metadata": {},
   "outputs": [
    {
     "name": "stdout",
     "output_type": "stream",
     "text": [
      "6.241509090043337e+21\n",
      "0.8954938315837665\n",
      "107.45925979005197\n"
     ]
    }
   ],
   "source": [
    "# The amount of H2 (kg) produced per day.\n",
    "\n",
    "number_cells = 120\n",
    "Area_cell = 1 # m2\n",
    "J = 1000 # A/m2\n",
    "V_required = 1.7 # V\n",
    "room_u_value = 45 # W/m2K\n",
    "I = J \n",
    "qe = 1.60217663e-19\n",
    "outside_t = 25 + 273 # in Kelvin\n",
    "z_valency = 2 # 2 electrons in the reaction\n",
    "Na = 6.022e23\n",
    "hydrogen_grams_per_mol = 2\n",
    "oxygen_grams_per_mol = 32\n",
    "h2o_grams_per_mol = 18\n",
    "t0 = 25 # temperature in degrees Celsius\n",
    "\n",
    "electrons_per_second = J * Area_cell / qe\n",
    "print(electrons_per_second) # this in units electrons per second\n",
    "\n",
    "n_h2_kg_per_day = electrons_per_second * 0.5 * hydrogen_grams_per_mol * 24 * 3600 / (Na * 1000)\n",
    "print(n_h2_kg_per_day)\n",
    "\n",
    "total_h2_production_rate = number_cells * n_h2_kg_per_day\n",
    "print(total_h2_production_rate)"
   ]
  },
  {
   "cell_type": "code",
   "execution_count": 20,
   "id": "e9ab07d0",
   "metadata": {},
   "outputs": [
    {
     "name": "stdout",
     "output_type": "stream",
     "text": [
      "7.163950652670132\n",
      "859.6740783204158\n"
     ]
    }
   ],
   "source": [
    " # The amount of O2 (kg) produced per day.\n",
    "    \n",
    "n_O2_kg_per_day = electrons_per_second * 0.25 * oxygen_grams_per_mol * 24 * 3600 / (Na * 1000)\n",
    "print(n_O2_kg_per_day)\n",
    "\n",
    "total_O2_production_rate = number_cells * n_O2_kg_per_day\n",
    "print(total_O2_production_rate)"
   ]
  },
  {
   "cell_type": "code",
   "execution_count": 21,
   "id": "a9f6d2aa",
   "metadata": {},
   "outputs": [
    {
     "name": "stdout",
     "output_type": "stream",
     "text": [
      "8.059444484253898\n",
      "967.1333381104678\n"
     ]
    }
   ],
   "source": [
    "# The amount of H2O (kg) consumed per day.\n",
    "\n",
    "n_O2_kg_per_day = electrons_per_second * 0.5 * h2o_grams_per_mol * 24 * 3600 / (Na * 1000)\n",
    "print(n_O2_kg_per_day)\n",
    "\n",
    "total_O2_production_rate = number_cells * n_O2_kg_per_day\n",
    "print(total_O2_production_rate) # kg per day\n"
   ]
  },
  {
   "cell_type": "code",
   "execution_count": 28,
   "id": "36064b5d",
   "metadata": {},
   "outputs": [
    {
     "name": "stdout",
     "output_type": "stream",
     "text": [
      "The temperature difference measured in degrees Kelvin is: 15.48 K\n",
      "The temperature at equilibrium is the current temperature combined with the temperature difference: 40.5 degrees Celsius or 313.5 degrees Kelvin \n"
     ]
    }
   ],
   "source": [
    "# The temperature of the room at equilibrium. The temperature of the room is related to the power generated.\n",
    "# The power production of the system is related to the difference of voltage 1.7 - 1.482 multiplied by \n",
    "# the current which in this case is given as J in [A/m2]\n",
    "room_wall_lenght = 2.5\n",
    "\n",
    "# The amount of heat rejected by the electrolyzer can be given by:\n",
    "def Amount_heat_rejected_P_cell(V, I):\n",
    "    return (V - return_voltaged_required_no_external_heat_V_0_th()) * I\n",
    "\n",
    "P_cell = Amount_heat_rejected_P_cell(V_required, I)\n",
    "\n",
    "# We need to multiply the amount of heat rejected by the number of cells in the system\n",
    "P_total = P_cell * number_cells\n",
    "#print(P_total)\n",
    "\n",
    "# Assuming that the room is of cubical shape and it has a specific dimension we can calculate the overall area\n",
    "Room_area = 6 * (room_wall_lenght ** 2)\n",
    "# print(Room_area)\n",
    "\n",
    "# The heat conduction is based on the power output divided by the conduction surface (the surface are of the room)\n",
    "total_heat_conducted_by_room = P_total / Room_area\n",
    "# print(total_heat_conducted_by_room)\n",
    "\n",
    "# The temperature is a function of the total heat conducted by the room. There is a formula connecting the \n",
    "# temperature conducted to the temperature difference and the U value of the system\n",
    "# P_heat/area = U_value * delta_T\n",
    "\n",
    "temperature_difference = total_heat_conducted_by_room / room_u_value \n",
    "# print(temperature_difference)\n",
    "\n",
    "print(f\"The temperature difference measured in degrees Kelvin is: {temperature_difference:.2f} K\")\n",
    "\n",
    "temperature_at_equilibrium = t0 + temperature_difference\n",
    "\n",
    "print(\n",
    "    f\"The temperature at equilibrium is the current temperature combined with the temperature \"\n",
    "      f\"difference: {temperature_at_equilibrium:.1f} degrees Celsius or \"\n",
    "      f\"{(temperature_at_equilibrium + 273):.1f} degrees Kelvin \"\n",
    ")"
   ]
  },
  {
   "cell_type": "markdown",
   "id": "00a51476",
   "metadata": {},
   "source": [
    "Exercise 7. Estimate the power needed for an ideal electrolyzer (whose heating needs are covered from an external heat source) operating at 298.2 K coupled with a compressor to produce 1 kg of hydrogen per hour at a pressure of 690 atm. The oxygen is produced at 200 atm. Consider the compression takes place isothermally."
   ]
  },
  {
   "cell_type": "code",
   "execution_count": 30,
   "id": "bb32bf52",
   "metadata": {},
   "outputs": [],
   "source": [
    "# The ideal gas constant measured in Joulse per mol degrees kelvin [J/(K * mol)]\n",
    "R = 8.314 # J/ (K * mol)\n"
   ]
  },
  {
   "cell_type": "code",
   "execution_count": 42,
   "id": "a115ed25",
   "metadata": {},
   "outputs": [
    {
     "name": "stdout",
     "output_type": "stream",
     "text": [
      "22773879.68 J/kmol or 22.77 MJ/kmol\n"
     ]
    }
   ],
   "source": [
    "T = 298.2 # degrees Kelvin\n",
    "P_out_h2 = 690 # atm \n",
    "P_out_02 = 200 # atm\n",
    "P_in = 1\n",
    "\n",
    "# Energy to compress 1 mol of Material in Gaseous form is given by the following formula\n",
    "def energy_to_compress(T, P_out, P_in):\n",
    "    return R * T * math.log(P_out / P_in)\n",
    "\n",
    "# The energy to compress both 1/2 kmol of Oxygen and 1 kmol of Hydrogen combined \n",
    "energy_to_compress_both  = 1000 * energy_to_compress(T, P_out_h2, P_in) + 1000 * 0.5 * energy_to_compress(T, P_out_02, P_in)\n",
    "print(f\"{energy_to_compress_both:.2f} J/kmol or {(energy_to_compress_both/1e6):.2f} MJ/kmol\") \n",
    "# Joules of energy per kmol"
   ]
  },
  {
   "cell_type": "code",
   "execution_count": null,
   "id": "8e0c6f51",
   "metadata": {},
   "outputs": [],
   "source": []
  },
  {
   "cell_type": "markdown",
   "id": "fb5d4436",
   "metadata": {},
   "source": [
    "Exercise 8. A large centrifugal compressor driven by an electric motor is to be used for H2 pipelines. The capacity needed is 50,000 kg H2/day, inlet temperature of 305.15 K, inlet pressure of 20 bar and required outlet (discharge) pressure of 70 bar. A compression ratio of 2.1 per stage is considered, the isentropic efficiency (ŋ) is 80% and the electric motor efficiency is 95%. Estimate the rated compressor power."
   ]
  },
  {
   "cell_type": "code",
   "execution_count": 45,
   "id": "dc125828",
   "metadata": {},
   "outputs": [
    {
     "name": "stdout",
     "output_type": "stream",
     "text": [
      "289.35185185185185\n"
     ]
    }
   ],
   "source": [
    "T_in = 305.15\n",
    "P_in = 20\n",
    "P_discharge = 70\n",
    "njsen = 0.8\n",
    "electric_motor_efficiency = 0.95\n",
    "\n",
    "Z_compressibility_factor = 1.024 # has a value of 1 for ideal gases, but can take a value between 1 and 1.4\n",
    "k = 1.4 # k = cp/cv = 1.41 for Hydrogen\n",
    "\n",
    "n_h2_kg_per_day = 50000\n",
    "n_h2_mol_sec = n_h2_kg_per_day * 1000 / (24 * 3600 * 2)\n",
    "print(n_h2_mol_sec)"
   ]
  },
  {
   "cell_type": "code",
   "execution_count": null,
   "id": "1fbffbae",
   "metadata": {},
   "outputs": [],
   "source": []
  },
  {
   "cell_type": "code",
   "execution_count": null,
   "id": "8342e99b",
   "metadata": {},
   "outputs": [],
   "source": []
  },
  {
   "cell_type": "code",
   "execution_count": null,
   "id": "6b174c04",
   "metadata": {},
   "outputs": [],
   "source": []
  },
  {
   "cell_type": "code",
   "execution_count": null,
   "id": "51775e25",
   "metadata": {},
   "outputs": [],
   "source": []
  },
  {
   "cell_type": "code",
   "execution_count": null,
   "id": "d186e040",
   "metadata": {},
   "outputs": [],
   "source": []
  },
  {
   "cell_type": "code",
   "execution_count": null,
   "id": "ed4b3e9c",
   "metadata": {},
   "outputs": [],
   "source": []
  },
  {
   "cell_type": "code",
   "execution_count": null,
   "id": "6a23fdb5",
   "metadata": {},
   "outputs": [],
   "source": []
  },
  {
   "cell_type": "code",
   "execution_count": null,
   "id": "16b630f9",
   "metadata": {},
   "outputs": [],
   "source": []
  },
  {
   "cell_type": "code",
   "execution_count": null,
   "id": "5185a3af",
   "metadata": {},
   "outputs": [],
   "source": []
  },
  {
   "cell_type": "code",
   "execution_count": null,
   "id": "a966c695",
   "metadata": {},
   "outputs": [],
   "source": []
  },
  {
   "cell_type": "code",
   "execution_count": null,
   "id": "260bbf6b",
   "metadata": {},
   "outputs": [],
   "source": []
  },
  {
   "cell_type": "code",
   "execution_count": null,
   "id": "a74b8916",
   "metadata": {},
   "outputs": [],
   "source": []
  },
  {
   "cell_type": "code",
   "execution_count": null,
   "id": "b2967bcc",
   "metadata": {},
   "outputs": [],
   "source": []
  },
  {
   "cell_type": "code",
   "execution_count": null,
   "id": "5791518b",
   "metadata": {},
   "outputs": [],
   "source": []
  },
  {
   "cell_type": "code",
   "execution_count": null,
   "id": "c6a24f10",
   "metadata": {},
   "outputs": [],
   "source": []
  },
  {
   "cell_type": "code",
   "execution_count": null,
   "id": "d54cfa65",
   "metadata": {},
   "outputs": [],
   "source": []
  },
  {
   "cell_type": "code",
   "execution_count": null,
   "id": "f897d89d",
   "metadata": {},
   "outputs": [],
   "source": []
  },
  {
   "cell_type": "code",
   "execution_count": null,
   "id": "144926cf",
   "metadata": {},
   "outputs": [],
   "source": []
  },
  {
   "cell_type": "code",
   "execution_count": null,
   "id": "0dcfc60b",
   "metadata": {},
   "outputs": [],
   "source": []
  },
  {
   "cell_type": "code",
   "execution_count": null,
   "id": "094c008c",
   "metadata": {},
   "outputs": [],
   "source": []
  },
  {
   "cell_type": "code",
   "execution_count": null,
   "id": "f5db1e95",
   "metadata": {},
   "outputs": [],
   "source": []
  },
  {
   "cell_type": "code",
   "execution_count": null,
   "id": "842c08fb",
   "metadata": {},
   "outputs": [],
   "source": []
  },
  {
   "cell_type": "code",
   "execution_count": null,
   "id": "f7771dac",
   "metadata": {},
   "outputs": [],
   "source": []
  },
  {
   "cell_type": "code",
   "execution_count": null,
   "id": "0927ed5f",
   "metadata": {},
   "outputs": [],
   "source": []
  },
  {
   "cell_type": "code",
   "execution_count": null,
   "id": "ecf27d46",
   "metadata": {},
   "outputs": [],
   "source": []
  },
  {
   "cell_type": "code",
   "execution_count": null,
   "id": "473c8e38",
   "metadata": {},
   "outputs": [],
   "source": []
  },
  {
   "cell_type": "code",
   "execution_count": null,
   "id": "4155b028",
   "metadata": {},
   "outputs": [],
   "source": []
  },
  {
   "cell_type": "code",
   "execution_count": null,
   "id": "ba088f04",
   "metadata": {},
   "outputs": [],
   "source": []
  },
  {
   "cell_type": "code",
   "execution_count": null,
   "id": "e45d3f7c",
   "metadata": {},
   "outputs": [],
   "source": []
  },
  {
   "cell_type": "code",
   "execution_count": null,
   "id": "c5f418a2",
   "metadata": {},
   "outputs": [],
   "source": []
  },
  {
   "cell_type": "code",
   "execution_count": null,
   "id": "6e7e363d",
   "metadata": {},
   "outputs": [],
   "source": []
  },
  {
   "cell_type": "code",
   "execution_count": null,
   "id": "cb71e35b",
   "metadata": {},
   "outputs": [],
   "source": []
  },
  {
   "cell_type": "code",
   "execution_count": null,
   "id": "6c230d7d",
   "metadata": {},
   "outputs": [],
   "source": []
  },
  {
   "cell_type": "code",
   "execution_count": null,
   "id": "373ba0d6",
   "metadata": {},
   "outputs": [],
   "source": []
  },
  {
   "cell_type": "code",
   "execution_count": null,
   "id": "424adc7a",
   "metadata": {},
   "outputs": [],
   "source": []
  },
  {
   "cell_type": "code",
   "execution_count": null,
   "id": "02cc896a",
   "metadata": {},
   "outputs": [],
   "source": []
  },
  {
   "cell_type": "code",
   "execution_count": null,
   "id": "95e9ef58",
   "metadata": {},
   "outputs": [],
   "source": []
  },
  {
   "cell_type": "code",
   "execution_count": null,
   "id": "a5bb6798",
   "metadata": {},
   "outputs": [],
   "source": []
  },
  {
   "cell_type": "code",
   "execution_count": null,
   "id": "ceb71654",
   "metadata": {},
   "outputs": [],
   "source": []
  },
  {
   "cell_type": "code",
   "execution_count": null,
   "id": "0f9e4c78",
   "metadata": {},
   "outputs": [],
   "source": []
  },
  {
   "cell_type": "code",
   "execution_count": null,
   "id": "6dcca318",
   "metadata": {},
   "outputs": [],
   "source": []
  },
  {
   "cell_type": "code",
   "execution_count": null,
   "id": "0346863d",
   "metadata": {},
   "outputs": [],
   "source": []
  },
  {
   "cell_type": "code",
   "execution_count": null,
   "id": "0089c8e2",
   "metadata": {},
   "outputs": [],
   "source": []
  },
  {
   "cell_type": "code",
   "execution_count": null,
   "id": "053f7b40",
   "metadata": {},
   "outputs": [],
   "source": []
  },
  {
   "cell_type": "code",
   "execution_count": null,
   "id": "90726e0a",
   "metadata": {},
   "outputs": [],
   "source": []
  },
  {
   "cell_type": "code",
   "execution_count": null,
   "id": "8b434324",
   "metadata": {},
   "outputs": [],
   "source": []
  },
  {
   "cell_type": "code",
   "execution_count": null,
   "id": "8d368d67",
   "metadata": {},
   "outputs": [],
   "source": []
  },
  {
   "cell_type": "code",
   "execution_count": null,
   "id": "788f88e2",
   "metadata": {},
   "outputs": [],
   "source": []
  }
 ],
 "metadata": {
  "kernelspec": {
   "display_name": "Python 3 (ipykernel)",
   "language": "python",
   "name": "python3"
  },
  "language_info": {
   "codemirror_mode": {
    "name": "ipython",
    "version": 3
   },
   "file_extension": ".py",
   "mimetype": "text/x-python",
   "name": "python",
   "nbconvert_exporter": "python",
   "pygments_lexer": "ipython3",
   "version": "3.9.12"
  },
  "toc": {
   "base_numbering": 1,
   "nav_menu": {},
   "number_sections": true,
   "sideBar": true,
   "skip_h1_title": false,
   "title_cell": "Table of Contents",
   "title_sidebar": "Contents",
   "toc_cell": false,
   "toc_position": {},
   "toc_section_display": true,
   "toc_window_display": false
  },
  "varInspector": {
   "cols": {
    "lenName": 16,
    "lenType": 16,
    "lenVar": 40
   },
   "kernels_config": {
    "python": {
     "delete_cmd_postfix": "",
     "delete_cmd_prefix": "del ",
     "library": "var_list.py",
     "varRefreshCmd": "print(var_dic_list())"
    },
    "r": {
     "delete_cmd_postfix": ") ",
     "delete_cmd_prefix": "rm(",
     "library": "var_list.r",
     "varRefreshCmd": "cat(var_dic_list()) "
    }
   },
   "types_to_exclude": [
    "module",
    "function",
    "builtin_function_or_method",
    "instance",
    "_Feature"
   ],
   "window_display": false
  }
 },
 "nbformat": 4,
 "nbformat_minor": 5
}
