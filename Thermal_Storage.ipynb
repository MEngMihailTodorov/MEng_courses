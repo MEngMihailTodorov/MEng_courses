{
 "cells": [
  {
   "cell_type": "markdown",
   "id": "58ecc0ee",
   "metadata": {},
   "source": [
    "# Thermal Storage Systems\n",
    "<br/><br/>\n",
    "Thermal storage systems are systems that are designed to store thermal energy for later use. They are used to capture excess thermal energy during periods of low demand, such as during the night, and then release the energy during periods of high demand, such as during the day. Thermal storage systems can take a variety of forms, including:\n",
    "<br/><br/>\n",
    "* Water-based systems: These systems store thermal energy in large tanks of water, which can be heated or cooled as required.\n",
    "\n",
    "* Ice-based systems: These systems use excess energy to freeze water, which is then stored until it is needed. When the stored ice is melted, the resulting chilled water can be used to cool buildings or industrial processes.\n",
    "\n",
    "* Phase-change materials (PCMs): These materials store thermal energy by changing phase (e.g. from a solid to a liquid) as the temperature changes. PCMs can be incorporated into building materials, such as walls or ceilings, to store and release thermal energy.\n",
    "\n",
    "* Molten salt systems: These systems store thermal energy in a molten salt solution, which can be heated or cooled as required.\n",
    "<br/><br/>\n",
    "\n",
    "Thermal storage systems are used in a variety of applications, including district heating and cooling, industrial processes, and renewable energy systems such as solar and wind power. They help to improve energy efficiency, reduce peak demand, and provide backup energy when needed.\n",
    "<br/><br/>\n",
    "### Steps for thermal storage:\n",
    "<br/><br/>\n",
    "* Charge\n",
    "* Store\n",
    "* Discharge\n",
    "<br/><br/>\n",
    "\n",
    "### Three types of heat storage:\n",
    "<br/><br/>\n",
    "* Sensible\n",
    "* Latent\n",
    "* Thermochemical\n",
    "<br/><br/>\n"
   ]
  },
  {
   "cell_type": "markdown",
   "id": "9e60253c",
   "metadata": {},
   "source": [
    "# Design of Thermal Storage\n",
    "<br></br>\n",
    "The following design procedure will establish specifications for how to properly size thermal storage systems needed in a variety of situations. For the simplicity of the user the input parameters which help properly model the system will be provided by him/her in the very beginning - Section 1: Input parameters. The functions and formulas will be provided in the second portion - Section 2: Formulas and Functions. Section 3: Results - will be focusing on the implementation of the parameters, design conditions, etc. implemented in the previous sections. In Section 4: Design insight - the user can find any additional considerations, assumptions made, limitations of the design procedure, reference models and studies.\n",
    "<br/><br/>\n",
    "Section 1: Input parameters\n",
    "<br/><br/>\n",
    "Section 2: Formulas and Functions\n",
    "<br/><br/>\n",
    "Section 3: Results\n",
    "<br/><br/>\n",
    "Section 4: Design insight\n",
    "<br/><br/>\n",
    "\n",
    "In comparison to previous design procedures the following will attempt to undergo a slightly different approach to the implementation of the algorithms and functions for the production of results. All previous WASTE HEAT AND POWER design procedures implemented functional programming, while this will focus on OOP approach - the user will be able to apply the class of the specific thermal storage system of interest and then model their specific case using the assigned object. This will not only streamline the design process, but also help the user add additional functionality if needed.\n",
    "<br/><br/>"
   ]
  },
  {
   "cell_type": "code",
   "execution_count": 1,
   "id": "8f6ab69f",
   "metadata": {},
   "outputs": [
    {
     "data": {
      "text/html": [
       "<style>.container { width:100% !important; }</style>"
      ],
      "text/plain": [
       "<IPython.core.display.HTML object>"
      ]
     },
     "metadata": {},
     "output_type": "display_data"
    }
   ],
   "source": [
    "from IPython.display import display, HTML\n",
    "display(HTML(\"<style>.container { width:100% !important; }</style>\"))"
   ]
  },
  {
   "cell_type": "code",
   "execution_count": 2,
   "id": "1efa5eaf",
   "metadata": {},
   "outputs": [],
   "source": [
    "# function for sensible heat storage - energy stored in hot water tank E [J], [1J = 1/3.6e6 kWh]\n",
    "\n",
    "def return_energy_stored_hot_water_tank(V, PwCw, dT):\n",
    "    return V * PwCw * dT # [J]"
   ]
  },
  {
   "cell_type": "code",
   "execution_count": 33,
   "id": "73591a0b",
   "metadata": {},
   "outputs": [],
   "source": [
    "from abc import ABC, abstractmethod\n",
    "from math import pi\n",
    "\n",
    "import math\n",
    "import numpy as np\n",
    "import plotly as pl\n",
    "import plotly.graph_objects as go\n",
    "import seaborn\n",
    "import pandas\n",
    "import matplotlib.pyplot as plt\n",
    "\n",
    "# (&nbsp;  )\n",
    "\n",
    "class ATES:\n",
    "    \n",
    "    def __init__(self, m, dynamic_viscosity, pf, k, b, L, D, Q, Q_pumped, cw, ca, H, T_Transmitivity, r, R, PmCm, PwCw, n=0.15):\n",
    "        super().__init__()\n",
    "        self.m = m\n",
    "        self.dynamic_viscosity = dynamic_viscosity\n",
    "        self.pf = pf\n",
    "        self.k = k\n",
    "        self.b = b\n",
    "        self.L = L\n",
    "        self.D = D\n",
    "        self.Q = Q\n",
    "        self.T_Transmitivity = T_Transmitivity\n",
    "        self.r = r\n",
    "        self.R = R\n",
    "        self.n = n\n",
    "        self.PmCm = PmCm\n",
    "        self.PwCw = PwCw\n",
    "        self.Q_pumped = Q_pumped\n",
    "        self.cw = cw\n",
    "        self.ca = ca\n",
    "        self.H = H\n",
    "        self.Retardation_factor = self.get_thermal_propagation_retardation_factor_R\n",
    "        self.r_th = self.get_thermal_radius_r_th\n",
    "        \n",
    "    # Darcy's Equation for the pressure at an injection well for Aquifer TES, where m is the mass flow rate into the well and out of the production well, pressure is also a function of the dynamic\n",
    "    # viscosity, pf - the density of the fluid, the permeability k, the reservoir thichness b, the well spacing L and the well diameter D. This assumes flat, homogeneous, isotropic reservois with\n",
    "    # a uniform initial hydraulic head, perfect aquicludes above and below, a fully penetrating well, negligible changes in fluid density and system conditions that approach steady state\n",
    "    # Analogous to the Thiem equation\n",
    "    \n",
    "    def get_pressure_at_injection_well_darcy_equation_P_inj(self):\n",
    "        return self.m * self.dynamic_viscosity * math.log(L/D) / (2 * math.pi * self.pf * self.k * self.b)\n",
    "    \n",
    "    def get_drawdown_s(self):\n",
    "        return self.Q * math.log(self.R / self.r) / (2 * math.pi * self.T_Transmitivity)\n",
    "    \n",
    "    # Thermal propagation as defined by the Retardation factor - R - considers the significant impact from injection of heat or the removal of heat (coolth) is the advection of the thermal\n",
    "    # plume from the wellbore by the natural hydraulic gradient. Heat is transported less than that of the natural groundwater velocity. Heat transport equation, where the ratio of volumetric\n",
    "    # heat capactiy of porous medium and the fluid phase (in this case water) is calculated.\n",
    "    \n",
    "    def get_thermal_propagation_retardation_factor_R(self):\n",
    "        return self.PmCm / (n * self.PwCw) \n",
    "    \n",
    "    \n",
    "    # Thermally balanced system well calculation, where well should be roughly 3 times the thermal radius \n",
    "    \n",
    "    def get_thermal_radius_r_th(self):\n",
    "        return math.sqrt(self.cw * self.Q_pumped / (self.ca * self.H * math.pi))\n",
    "    \n",
    "    \n",
    "\n",
    "class BTES:\n",
    "    \n",
    "    def __init__(self, H_max, pc_m, dT):\n",
    "        self.H_max = H_max # [J] Maximum heat load for the subsurface\n",
    "        self.pc_m = pc_m # [J / (m3 * K)] Volumetric Heat Capacity for the saturated rock/soil\n",
    "        self.dT = dT # [degrees C] Change of temperature in the subsurface\n",
    "        self.r = self.get_radius_r() # radius of the giver array \n",
    "        self.V_max = self.get_volume_V_max()\n",
    "    \n",
    "    # This function returns the maximum Volume at regular borehole array\n",
    "    \n",
    "    def get_volume_V_max(self):\n",
    "        return self.H_max / (self.pc_m * self.dT)\n",
    "    \n",
    "    # Usually use cylindrical arrays due to there improved efficiency (Skarphagen et al., 2019). We can therefore find the radius of the given array using the volume previously calculated.\n",
    "    # Note depth h = 2r. You can also find the number of boreholes by assuming a typical specific heat extraction in W/m and the maximum heat rate of the system in kW.\n",
    "    \n",
    "    def get_cylindrical_volume_V_cyl(self):\n",
    "        return math.pi * 2 * (self.r ** 3)\n",
    "    \n",
    "    def get_radius_r(self):\n",
    "        return math.pow((self.V_max / (2 * math.pi)), 1/3)\n",
    "        \n",
    "    \n",
    "    \n",
    "    \n",
    "    \n",
    "        "
   ]
  },
  {
   "cell_type": "code",
   "execution_count": 29,
   "id": "5c99b38e",
   "metadata": {},
   "outputs": [
    {
     "ename": "AttributeError",
     "evalue": "'ATES' object has no attribute 'PmCm'",
     "output_type": "error",
     "traceback": [
      "\u001b[1;31m---------------------------------------------------------------------------\u001b[0m",
      "\u001b[1;31mAttributeError\u001b[0m                            Traceback (most recent call last)",
      "Input \u001b[1;32mIn [29]\u001b[0m, in \u001b[0;36m<cell line: 20>\u001b[1;34m()\u001b[0m\n\u001b[0;32m     17\u001b[0m H \u001b[38;5;241m=\u001b[39m \u001b[38;5;241m20\u001b[39m \u001b[38;5;66;03m# [m] Length of the screens\u001b[39;00m\n\u001b[0;32m     18\u001b[0m n \u001b[38;5;241m=\u001b[39m \u001b[38;5;241m0.15\u001b[39m\n\u001b[1;32m---> 20\u001b[0m ATES_1 \u001b[38;5;241m=\u001b[39m \u001b[43mATES\u001b[49m\u001b[43m(\u001b[49m\u001b[43mm\u001b[49m\u001b[43m,\u001b[49m\u001b[43m \u001b[49m\u001b[43mdynamic_viscosity\u001b[49m\u001b[43m,\u001b[49m\u001b[43m \u001b[49m\u001b[43mpf\u001b[49m\u001b[43m,\u001b[49m\u001b[43m \u001b[49m\u001b[43mk\u001b[49m\u001b[43m,\u001b[49m\u001b[43m \u001b[49m\u001b[43mb\u001b[49m\u001b[43m,\u001b[49m\u001b[43m \u001b[49m\u001b[43mL\u001b[49m\u001b[43m,\u001b[49m\u001b[43m \u001b[49m\u001b[43mD\u001b[49m\u001b[43m,\u001b[49m\u001b[43m \u001b[49m\u001b[43mQ\u001b[49m\u001b[43m,\u001b[49m\u001b[43m \u001b[49m\u001b[43mQ_pumped\u001b[49m\u001b[43m,\u001b[49m\u001b[43m \u001b[49m\u001b[43mcw\u001b[49m\u001b[43m,\u001b[49m\u001b[43m \u001b[49m\u001b[43mca\u001b[49m\u001b[43m,\u001b[49m\u001b[43m \u001b[49m\u001b[43mH\u001b[49m\u001b[43m,\u001b[49m\u001b[43m \u001b[49m\u001b[43mT_Transmitivity\u001b[49m\u001b[43m,\u001b[49m\u001b[43m \u001b[49m\u001b[43mr\u001b[49m\u001b[43m,\u001b[49m\u001b[43m \u001b[49m\u001b[43mR\u001b[49m\u001b[43m,\u001b[49m\u001b[43m \u001b[49m\u001b[43mPmCm\u001b[49m\u001b[43m,\u001b[49m\u001b[43m \u001b[49m\u001b[43mPwCw\u001b[49m\u001b[43m,\u001b[49m\u001b[43m \u001b[49m\u001b[43mn\u001b[49m\u001b[43m)\u001b[49m\n",
      "Input \u001b[1;32mIn [28]\u001b[0m, in \u001b[0;36mATES.__init__\u001b[1;34m(self, m, dynamic_viscosity, pf, k, b, L, D, Q, Q_pumped, cw, ca, H, T_Transmitivity, r, R, PmCm, PwCw, n)\u001b[0m\n\u001b[0;32m     27\u001b[0m \u001b[38;5;28mself\u001b[39m\u001b[38;5;241m.\u001b[39mr \u001b[38;5;241m=\u001b[39m r\n\u001b[0;32m     28\u001b[0m \u001b[38;5;28mself\u001b[39m\u001b[38;5;241m.\u001b[39mR \u001b[38;5;241m=\u001b[39m R\n\u001b[1;32m---> 29\u001b[0m \u001b[38;5;28mself\u001b[39m\u001b[38;5;241m.\u001b[39mRetardation_factor \u001b[38;5;241m=\u001b[39m \u001b[38;5;28;43mself\u001b[39;49m\u001b[38;5;241;43m.\u001b[39;49m\u001b[43mget_thermal_propagation_retardation_factor_R\u001b[49m\u001b[43m(\u001b[49m\u001b[43m)\u001b[49m\n\u001b[0;32m     30\u001b[0m \u001b[38;5;28mself\u001b[39m\u001b[38;5;241m.\u001b[39mn \u001b[38;5;241m=\u001b[39m n\n\u001b[0;32m     31\u001b[0m \u001b[38;5;28mself\u001b[39m\u001b[38;5;241m.\u001b[39mPmCm \u001b[38;5;241m=\u001b[39m PmCm\n",
      "Input \u001b[1;32mIn [28]\u001b[0m, in \u001b[0;36mATES.get_thermal_propagation_retardation_factor_R\u001b[1;34m(self)\u001b[0m\n\u001b[0;32m     54\u001b[0m \u001b[38;5;28;01mdef\u001b[39;00m \u001b[38;5;21mget_thermal_propagation_retardation_factor_R\u001b[39m(\u001b[38;5;28mself\u001b[39m):\n\u001b[1;32m---> 55\u001b[0m     \u001b[38;5;28;01mreturn\u001b[39;00m \u001b[38;5;28;43mself\u001b[39;49m\u001b[38;5;241;43m.\u001b[39;49m\u001b[43mPmCm\u001b[49m \u001b[38;5;241m/\u001b[39m (n \u001b[38;5;241m*\u001b[39m \u001b[38;5;28mself\u001b[39m\u001b[38;5;241m.\u001b[39mPwCw)\n",
      "\u001b[1;31mAttributeError\u001b[0m: 'ATES' object has no attribute 'PmCm'"
     ]
    }
   ],
   "source": [
    "m = 12 # [kg/s] Mass flow rate\n",
    "dynamic_viscosity =  0.0010016 # [kg/ (m * s)] == [N/(m2) * s] == [Pa * s] The dynamic viscocity of the fluid\n",
    "pf = 997 # [kg/m³] Density of the fluid\n",
    "k = 0.15 # [m2] Permeability\n",
    "b = 0.3 # [m] Reservoir thickness\n",
    "L = 4 # [m] Well spacing\n",
    "D = 0.5 # [m] Diameter of the well\n",
    "Q = 2 # [m3/s] the Volumetric flow rate\n",
    "Q_pumped = 3000 # [m3] Amount of water (Volume) reinjected/pumped per season\n",
    "T_Transmitivity = 0.1 # [m2/s], T = kb, but we input bothu\n",
    "r = 0.15 # [m] the radius of the wellbore\n",
    "R = 20 # [m] is the distance to the other well\n",
    "PmCm = 2.8e6 # [J / (m ** 3 * K)] Heat capacity of the Aquifer\n",
    "PwCw = 4.2e6 # [J / (m ** 3 * K)] Heat capacity of Water\n",
    "cw = PwCw \n",
    "ca = PmCm\n",
    "H = 20 # [m] Length of the screens\n",
    "n = 0.15\n",
    "\n",
    "ATES_1 = ATES(m, dynamic_viscosity, pf, k, b, L, D, Q, Q_pumped, cw, ca, H, T_Transmitivity, r, R, PmCm, PwCw, n)\n"
   ]
  },
  {
   "cell_type": "code",
   "execution_count": 30,
   "id": "90403b8e",
   "metadata": {},
   "outputs": [
    {
     "name": "stdout",
     "output_type": "stream",
     "text": [
      "15.57443245498099\n"
     ]
    }
   ],
   "source": [
    "print(ATES_1.get_drawdown_s())"
   ]
  },
  {
   "cell_type": "code",
   "execution_count": 15,
   "id": "ae5d5b2b",
   "metadata": {},
   "outputs": [
    {
     "name": "stdout",
     "output_type": "stream",
     "text": [
      "4.444444444444445\n"
     ]
    }
   ],
   "source": [
    "print(ATES_1.get_thermal_propagation_retardation_factor_R())"
   ]
  },
  {
   "cell_type": "code",
   "execution_count": 16,
   "id": "d0414f38",
   "metadata": {},
   "outputs": [
    {
     "name": "stdout",
     "output_type": "stream",
     "text": [
      "8.462843753216344\n"
     ]
    }
   ],
   "source": [
    "print(ATES_1.get_thermal_radius_r_th())"
   ]
  },
  {
   "cell_type": "code",
   "execution_count": 27,
   "id": "869c268f",
   "metadata": {},
   "outputs": [
    {
     "ename": "SyntaxError",
     "evalue": "invalid syntax (2789762592.py, line 5)",
     "output_type": "error",
     "traceback": [
      "\u001b[1;36m  Input \u001b[1;32mIn [27]\u001b[1;36m\u001b[0m\n\u001b[1;33m    BTES_2 = BTES( H_max, pc_m, dT=)\u001b[0m\n\u001b[1;37m                                   ^\u001b[0m\n\u001b[1;31mSyntaxError\u001b[0m\u001b[1;31m:\u001b[0m invalid syntax\n"
     ]
    }
   ],
   "source": [
    "H_max = 902e9 # [J], note that 1 GJ = e9 J, The maximum heat load for the subsurface\n",
    "pc_m = 2.1e6 # [J/ (m3 * K)] The volumetric heat capacity of the system\n",
    "dT = 11 # [degrees C] The change of temperature of the subsurface\n",
    "\n",
    "BTES_2 = BTES( H_max, pc_m, dT=)"
   ]
  },
  {
   "cell_type": "code",
   "execution_count": null,
   "id": "6f74e057",
   "metadata": {},
   "outputs": [],
   "source": []
  },
  {
   "cell_type": "code",
   "execution_count": null,
   "id": "18f4e3c7",
   "metadata": {},
   "outputs": [],
   "source": []
  },
  {
   "cell_type": "code",
   "execution_count": null,
   "id": "3573ef56",
   "metadata": {},
   "outputs": [],
   "source": []
  },
  {
   "cell_type": "code",
   "execution_count": null,
   "id": "36b3136d",
   "metadata": {},
   "outputs": [],
   "source": []
  },
  {
   "cell_type": "code",
   "execution_count": null,
   "id": "3417a325",
   "metadata": {},
   "outputs": [],
   "source": []
  },
  {
   "cell_type": "code",
   "execution_count": null,
   "id": "95b2b2c7",
   "metadata": {},
   "outputs": [],
   "source": []
  },
  {
   "cell_type": "code",
   "execution_count": null,
   "id": "41d5720b",
   "metadata": {},
   "outputs": [],
   "source": []
  },
  {
   "cell_type": "code",
   "execution_count": null,
   "id": "e2dbf211",
   "metadata": {},
   "outputs": [],
   "source": []
  },
  {
   "cell_type": "code",
   "execution_count": null,
   "id": "9ea1ead8",
   "metadata": {},
   "outputs": [],
   "source": []
  },
  {
   "cell_type": "code",
   "execution_count": null,
   "id": "b3cb1075",
   "metadata": {},
   "outputs": [],
   "source": []
  },
  {
   "cell_type": "code",
   "execution_count": null,
   "id": "4527235e",
   "metadata": {},
   "outputs": [],
   "source": []
  },
  {
   "cell_type": "code",
   "execution_count": null,
   "id": "6eec67d0",
   "metadata": {},
   "outputs": [],
   "source": []
  },
  {
   "cell_type": "code",
   "execution_count": null,
   "id": "7f56c08b",
   "metadata": {},
   "outputs": [],
   "source": []
  }
 ],
 "metadata": {
  "kernelspec": {
   "display_name": "Python 3 (ipykernel)",
   "language": "python",
   "name": "python3"
  },
  "language_info": {
   "codemirror_mode": {
    "name": "ipython",
    "version": 3
   },
   "file_extension": ".py",
   "mimetype": "text/x-python",
   "name": "python",
   "nbconvert_exporter": "python",
   "pygments_lexer": "ipython3",
   "version": "3.9.12"
  },
  "toc": {
   "base_numbering": 1,
   "nav_menu": {},
   "number_sections": true,
   "sideBar": true,
   "skip_h1_title": false,
   "title_cell": "Table of Contents",
   "title_sidebar": "Contents",
   "toc_cell": false,
   "toc_position": {},
   "toc_section_display": true,
   "toc_window_display": false
  },
  "varInspector": {
   "cols": {
    "lenName": 16,
    "lenType": 16,
    "lenVar": 40
   },
   "kernels_config": {
    "python": {
     "delete_cmd_postfix": "",
     "delete_cmd_prefix": "del ",
     "library": "var_list.py",
     "varRefreshCmd": "print(var_dic_list())"
    },
    "r": {
     "delete_cmd_postfix": ") ",
     "delete_cmd_prefix": "rm(",
     "library": "var_list.r",
     "varRefreshCmd": "cat(var_dic_list()) "
    }
   },
   "types_to_exclude": [
    "module",
    "function",
    "builtin_function_or_method",
    "instance",
    "_Feature"
   ],
   "window_display": false
  }
 },
 "nbformat": 4,
 "nbformat_minor": 5
}
