{
 "cells": [
  {
   "cell_type": "markdown",
   "id": "faa4ae3a",
   "metadata": {},
   "source": [
    "# Conceptual Design Project ENG 5273\n",
    "<br></br>\n",
    "**Group 3**\n",
    "<br></br>\n",
    "The following section of the Conceptual Design Project will focus on the design of the foundations and in particular will first take a look at the initial conditions of the specific project requirements as well as the different design options and considerations we might need to explore.\n",
    "<br></br>"
   ]
  },
  {
   "cell_type": "code",
   "execution_count": 1,
   "id": "3ef293bb",
   "metadata": {},
   "outputs": [
    {
     "data": {
      "text/html": [
       "<style>.container { width:100% !important; }</style>"
      ],
      "text/plain": [
       "<IPython.core.display.HTML object>"
      ]
     },
     "metadata": {},
     "output_type": "display_data"
    }
   ],
   "source": [
    "from IPython.display import display, HTML\n",
    "display(HTML(\"<style>.container { width:100% !important; }</style>\"))"
   ]
  },
  {
   "cell_type": "markdown",
   "id": "9e57a80f",
   "metadata": {},
   "source": [
    "## Foundation types\n",
    "<br></br>\n",
    "**Shallow foundations**\n",
    "<br></br>\n",
    "Shallow foundations are a type of foundation that are used to support buildings and other structures on the surface layer of the soil. Shallow foundations are usually used for smaller and less complex Civil Engineering structures and as such are predominantly a less expensive and less complicated option, which provides easier to install and manage option suitable for small scale projects, where the soil is strong enough to support the induces loads. \n",
    "There are a multiple shallow foundation types:\n",
    "* Single footings \n",
    "* Combined footings \n",
    "* Raft foundations\n",
    "\n",
    "<br></br>\n",
    "**Deep foundations**\n",
    "<br></br>\n",
    "\n",
    "Deep foundations are a type of foundation that are used to support generally speaking larger and more complex buildings and structures. Deep foundations rely on digging and excavation in order to be installed - for the purpose of reaching stronger and less deformable soil layers which can withstand the larger loads. There are several deep foundation types:\n",
    "* Driven Piles\n",
    "* Bored Piles\n",
    "* Caissons\n",
    "* Micro-Piles\n",
    "* Rammed Aggregate Piers\n",
    "* Grouted foundations\n",
    "\n",
    "<br></br>"
   ]
  },
  {
   "cell_type": "markdown",
   "id": "321d9ca9",
   "metadata": {},
   "source": [
    "## Section 1: Introduction\n",
    "<br></br>\n",
    "The design of choice is Cast-in-place Group Pile foundation, also known as Displacement Continuous Flight Auger (CFA) Piles  with additional grout introduced after the construction of the reinforced concrete piles. The reasons behind this solution are the following:\n",
    "* Large concentrated loads.\n",
    "* To transfer the largely induced structural loads to more competent layers.\n",
    "* To help resist the horizontal loads and the dynamic stresses induced by lateral wind forces.\n",
    "* Limit the settlement of the structure and help integrate it in the overall structural context of the site.\n",
    "* Cause minimal disturbance (noise, vibration, deformation) to the surrounding soil and structures.\n",
    "* More complex shapes can be achieved.\n",
    "* Protect the reinforcement from corrosion.\n",
    "<br></br>\n",
    "\n",
    "Determine whether the ULS and SLS is satisfied according to Eurocode 7 (DA1a).\n"
   ]
  },
  {
   "cell_type": "code",
   "execution_count": null,
   "id": "586ddf3c",
   "metadata": {},
   "outputs": [],
   "source": []
  },
  {
   "cell_type": "code",
   "execution_count": null,
   "id": "729378f5",
   "metadata": {},
   "outputs": [],
   "source": []
  },
  {
   "cell_type": "code",
   "execution_count": null,
   "id": "5c09092a",
   "metadata": {},
   "outputs": [],
   "source": []
  },
  {
   "cell_type": "markdown",
   "id": "f5c924a9",
   "metadata": {},
   "source": [
    "## Section 2: Design Parameters"
   ]
  },
  {
   "cell_type": "code",
   "execution_count": 2,
   "id": "6fe51c47",
   "metadata": {},
   "outputs": [],
   "source": [
    "import math\n",
    "import numpy as np\n",
    "import plotly as pl\n",
    "import plotly.graph_objects as go\n",
    "import seaborn\n",
    "import pandas\n",
    "import matplotlib.pyplot as plt"
   ]
  },
  {
   "cell_type": "code",
   "execution_count": 3,
   "id": "b56d38bf",
   "metadata": {},
   "outputs": [],
   "source": [
    "# DESIGN FACTORS OF SAFETY\n",
    "\n",
    "y_tan_phi = 1 # factor of safety for the angle of internal friction\n",
    "y_y = 1 # material unit weight factor\n",
    "y_rs = 1 # shaft capacity of the pile factor\n",
    "y_rb = 1 # base capacity of the pile factor\n",
    "y_rc = 1 # total capacity (compression) resistance factor\n",
    "\n",
    "# SOIL PARAMETERS\n",
    "\n",
    "# K = 1 and delta_angle = 0.75 phi can be assumed along the length of the pile shaft - the soil conditions are undisturbed of natural origin.\n",
    "\n",
    "K = 1\n",
    "y = 15 # [kN/m3] bulk density of the soil\n",
    "phi = 32 # [degrees] angle of internal friction, then converted to radians for the calculations\n",
    "phi = math.radians(phi) # [radians]\n",
    "\n",
    "G_shear_modulus = 15e9 # [N/m2]      1GPa = 1 000 000 000 \n",
    "G_si = 10.4e9 # [N/m2]      1GPa = 1 000 000 000 \n",
    "\n",
    "v_poisson = 0.3\n",
    "\n",
    "\n",
    "phi_des = np.arctan(math.tan(phi)/ y_tan_phi)\n",
    "delta_angle_des = 0.75 * phi_des\n",
    "cohesion_c = 0\n",
    "\n",
    "# loading on the foundation\n",
    "Q_permanent_g = 1.5e6 # [N] permanent load\n",
    "Q_imposed_g = 0.5e6 # [N] imposed load\n",
    "vertical_effective_stress = 1\n",
    "\n",
    "# pile geometric properties\n",
    "Lp = 10 # [m]\n",
    "r_m = Lp # [m]\n",
    "d_diameter_pile = 0.5 # [m]\n",
    "A_pile = d_diameter_pile ** 2 # [m2], for circular use - (((d_diameter_pile / 2 )** 2) * math.pi)\n",
    "C_pile = d_diameter_pile * 4 # [m], for circular use - (d_diameter_pile * math.pi)\n",
    "\n",
    "# pile material properties\n",
    "Ep = 30e9 # [N/m2]      1GPa = 1 000 000 000 \n",
    "\n",
    "# what portion of the shaft is actively contributing\n",
    "z1 = 10\n",
    "z2 = 8\n",
    "\n",
    "# pile group geometric properties\n",
    "# number of piles\n",
    "n_number_piles = 6\n",
    "pile_group_x = 2 # [m] - dependant on the size of the pile group\n",
    "pile_group_y = 6 # [m] - dependant on the size of the pile group\n",
    "A_block = pile_group_x * pile_group_y\n",
    "C_block = 2 * (pile_group_x + pile_group_y)"
   ]
  },
  {
   "cell_type": "code",
   "execution_count": null,
   "id": "d69dc0e9",
   "metadata": {},
   "outputs": [],
   "source": []
  },
  {
   "cell_type": "markdown",
   "id": "91a5eb04",
   "metadata": {},
   "source": [
    "## Section 3: Formulas and Functions"
   ]
  },
  {
   "cell_type": "code",
   "execution_count": 51,
   "id": "26e5b738",
   "metadata": {},
   "outputs": [],
   "source": [
    "# the following function assigns a 1.35 factor of safety for permanent loads and 1.5 for variable\n",
    "\n",
    "def return_design_action_applied_Q_t_des(Q_permanent_g, Q_imposed_g):\n",
    "    return Q_permanent_g * 1.35 + Q_imposed_g + 1.5\n",
    "\n",
    "def return_total_ultimate_resistance_Qt(Qs, Qb):\n",
    "    return Qs + Qb\n",
    "\n",
    "def return_ultimate_base_resistance_Qb(D, qbu):\n",
    "    return math.pi * (D ** 2) * qbu / 4\n",
    "\n",
    "\n",
    "# the alpha method - short term undrained load-carrying capacity, where the alpha factor is responding \n",
    "# to the smoothness of the pile surface - soil interface, alpha = 0, means perfectly smooth, while\n",
    "# alpha = 1, means perfectly rough surface\n",
    "# su - the undrained shear strength, not fundamental property, but related to the angle of internal \n",
    "# friction phi\n",
    "\n",
    "def return_t_ult(alpha, su):\n",
    "    return alpha * su\n",
    "\n",
    "# the beta method - drained long-term conditons, following coloumb's law.\n",
    "# this design consideration is applicable if only the water table is below the tip of the piles, which is \n",
    "# the case on the JWS-Rankine site\n",
    "\n",
    "def return_pile_group_ultimate_capacity(y, phi, cohesion_c=0):\n",
    "    pass\n",
    "    \n",
    "def return_design_base_capacity_Q_bu_des(A_pile, N_q, Lp, y, y_y, y_rb): # [N]\n",
    "    return A_pile * N_q * Lp * (y / y_y) / y_rb * 1000\n",
    "\n",
    "def return_design_shaft_capacity_Q_su_des(C_pile, K, y, y_y, z1, z2, delta_angle_des,  y_rs): # [N]\n",
    "    return (C_pile * K * math.tan(delta_angle_des) * y / y_y * ((z1 * z1 / 2) - (z2 * z2 /2)) / y_rs) * 1000\n",
    "\n",
    "\n",
    "# BLOCK GROUP FUNCTIONS\n",
    "def return_design_base_capacity_BLOCK_Q_b_block_des(A_block, N_q, Lp, y, y_y, y_rb): # [N]\n",
    "    return A_block * N_q * Lp * (y / y_y) / y_rb * 1000\n",
    "\n",
    "def return_design_shaft_capacity_BLOCK_Q_s_block_des(C_block, K, y, y_y, z1, z2, delta_angle_des,  y_rs): # [N]\n",
    "    return (C_block * K * math.tan(delta_angle_des) * y / y_y * ((z1 * z1 / 2) - (z2 * z2 /2)) / y_rs) * 1000\n",
    "\n",
    "\n",
    "\n",
    "# All of these come from Janbu(1976)\n",
    "def return_bearing_capacity_factor_N_q(phi_des):\n",
    "    return (((1 + math.sin(phi_des)) / (1 - math.sin(phi_des))) * math.exp(math.pi * math.tan(phi_des)))\n",
    "\n",
    "def return_cohesion_factor_N_c(N_q, phi_des):\n",
    "    return (N_q - 1) / math.tan(phi_des)\n",
    "\n",
    "def return_gamma_factor_N_y(N_q, phi_des_des):\n",
    "    return (N_q - 1) * math.tan(phi)\n",
    "\n",
    "def return_q_bu():\n",
    "    pass\n",
    "\n",
    "\n",
    "\n",
    "# ULS DESIGN CHECK\n",
    "\n",
    "def check_if_individual_pile_design_capacity_satisfies_ULS(n_number_piles):\n",
    "    if ((Q_bu_des + Q_su_des) * n_number_piles) >= Q_t_des:\n",
    "        return True\n",
    "    else:\n",
    "        return False\n",
    "    \n",
    "    \n",
    "def check_if_BLOCK_design_capacity_satisfies_ULS(n_number_piles):\n",
    "    if ((Q_b_block_des + Q_s_block_des)) >= Q_t_des:\n",
    "        return True\n",
    "    else:\n",
    "        return False\n",
    "    \n",
    "    \n",
    "# SLS DESIGN CHECK Randolph & Wroth (1978) closed form solution\n",
    "\n",
    "# SLS DESIGN SINGLE PILE\n",
    "\n",
    "def return_stiffness_of_the_base_Kbi(D, G_shear_modulus, v):\n",
    "    return 2 * D * G_shear_modulus / (1 - v)\n",
    "\n",
    "def return_shear_stress(shear_stress_average, D, r):\n",
    "    return  D * shear_stress_average / (2 * r)\n",
    "\n",
    "def return_stiffness_of_the_shaft_Ksi(Lp, G_si, r_m, D):\n",
    "    return 2 * math.pi * Lp * G_si / (math.log(2 * r_m / D))\n",
    "\n",
    "def return_single_pile_settlement(Q, Ksi, Kbi):\n",
    "    return Q / (Kbi + Ksi)\n",
    "\n",
    "def return_load_carried_by_the_shaft_Ksi_s(s, Ksi):\n",
    "    return s * Ksi\n",
    "\n",
    "def return_load_carried_by_the_shaft_Kbi_s(s, Kbi):\n",
    "    return s * Kbi\n",
    "\n",
    "\n",
    "# SLS DESIGN PILE GROUP \n",
    "\n",
    "def return_mu(G_si, r_m, D, Ep, Ap):\n",
    "    return (math.sqrt(2 * math.pi * G_si / (math.log(2 * r_m / D) * Ep * Ap)))\n",
    "\n",
    "def return_omega(Kbi, Ep, A_pile, mu):\n",
    "    return Kbi / (Ep * A_pile * mu)\n",
    "\n"
   ]
  },
  {
   "cell_type": "markdown",
   "id": "cbc8a266",
   "metadata": {},
   "source": [
    "ULS DESIGN CHECK\n",
    "<br></br>"
   ]
  },
  {
   "cell_type": "code",
   "execution_count": null,
   "id": "b2314d6f",
   "metadata": {},
   "outputs": [],
   "source": [
    "\n"
   ]
  },
  {
   "cell_type": "code",
   "execution_count": 33,
   "id": "6eac97e2",
   "metadata": {},
   "outputs": [
    {
     "name": "stdout",
     "output_type": "stream",
     "text": [
      "23.17677620701264\n",
      "35.49026070689835\n"
     ]
    }
   ],
   "source": [
    "N_q = return_bearing_capacity_factor_N_q(phi)\n",
    "N_c = return_cohesion_factor_N_c(N_q, phi)\n",
    "\n",
    "print(N_q)\n",
    "print(N_c)\n"
   ]
  },
  {
   "cell_type": "code",
   "execution_count": 34,
   "id": "b2fadad7",
   "metadata": {
    "scrolled": true
   },
   "outputs": [
    {
     "name": "stdout",
     "output_type": "stream",
     "text": [
      "23.17677620701264\n",
      "1868627.581690394\n",
      "240423.49006660955\n"
     ]
    }
   ],
   "source": [
    "\n",
    "print(N_q)\n",
    "\n",
    "Q_t_des = return_design_action_applied_Q_t_des(Q_permanent_g, Q_imposed_g)\n",
    "Q_bu_des = return_design_base_capacity_Q_bu_des(A_pile, N_q, Lp, y, y_y, y_rb)\n",
    "print(Q_bu_des)\n",
    "\n",
    "Q_su_des = return_design_shaft_capacity_Q_su_des(C_pile, K, y, y_y, z1, z2, delta_angle_des,  y_rs)\n",
    "\n",
    "print(Q_su_des)"
   ]
  },
  {
   "cell_type": "markdown",
   "id": "fe4d87cd",
   "metadata": {},
   "source": [
    "Design of group pile foundation procedure for n-number of piles - the respective ULS, SLS.\n",
    "<br></br>\n",
    "First we will take a look at the ULS - especially the axial loading and the bearing capacity the combined number of piles as well as of the pile group as whole.\n",
    "<br></br>\n",
    "Failure Mode 1:"
   ]
  },
  {
   "cell_type": "code",
   "execution_count": 35,
   "id": "a2c8302a",
   "metadata": {},
   "outputs": [
    {
     "name": "stdout",
     "output_type": "stream",
     "text": [
      "True\n"
     ]
    }
   ],
   "source": [
    "\n",
    "\n",
    "\n",
    "    \n",
    "print(check_if_individual_pile_design_capacity_satisfies_ULS(n_number_piles))\n",
    "\n"
   ]
  },
  {
   "cell_type": "markdown",
   "id": "fe44017b",
   "metadata": {},
   "source": [
    "Failure Mode 2:"
   ]
  },
  {
   "cell_type": "code",
   "execution_count": 36,
   "id": "8bc0e7ec",
   "metadata": {},
   "outputs": [
    {
     "name": "stdout",
     "output_type": "stream",
     "text": [
      "1923387.9205328764\n",
      "89694123.92113891\n"
     ]
    }
   ],
   "source": [
    "\n",
    "Q_b_block_des = return_design_base_capacity_BLOCK_Q_b_block_des(A_block, N_q, Lp, y, y_y, y_rb)\n",
    "\n",
    "Q_s_block_des = return_design_shaft_capacity_BLOCK_Q_s_block_des(C_block, K, y, y_y, z1, z2, delta_angle_des,  y_rs)\n",
    "\n",
    "print(Q_s_block_des)\n",
    "print(Q_b_block_des)\n"
   ]
  },
  {
   "cell_type": "code",
   "execution_count": 37,
   "id": "9131e2ee",
   "metadata": {},
   "outputs": [
    {
     "name": "stdout",
     "output_type": "stream",
     "text": [
      "True\n"
     ]
    }
   ],
   "source": [
    "\n",
    "    \n",
    "print(check_if_BLOCK_design_capacity_satisfies_ULS(n_number_piles))\n"
   ]
  },
  {
   "cell_type": "markdown",
   "id": "6118a737",
   "metadata": {},
   "source": [
    "SLS DESIGN CHECK FOR A SINGLE PILE\n",
    "<br></br>\n"
   ]
  },
  {
   "cell_type": "code",
   "execution_count": 60,
   "id": "de226ecc",
   "metadata": {},
   "outputs": [
    {
     "name": "stdout",
     "output_type": "stream",
     "text": [
      "The stiffness of a Single Pile at the base:  Kbi = 19.688 [MN/m].\n",
      "The stiffness of a Single Pile at the shaft:  Ksi = 315.404 [MN/m].\n",
      "The settlement of a Single Pile:  s = 119.370 [mm].\n",
      "Mu = 0.050\n",
      "Omega = 0.067\n"
     ]
    }
   ],
   "source": [
    "d_diameter_pile = 0.5\n",
    "G_shear_modulus = 15.75e6\n",
    "v_poisson = 0.2\n",
    "Lp = 21.50\n",
    "G_si = 10.4e6\n",
    "r_m = Lp\n",
    "Q = 40 # [MN]\n",
    "Ep = 30e9\n",
    "A_pile = math.pi * (d_diameter_pile ** 2) / 4\n",
    "\n",
    "\n",
    "Kbi = (return_stiffness_of_the_base_Kbi(d_diameter_pile, G_shear_modulus, v_poisson) / 1000000)\n",
    "Ksi = (return_stiffness_of_the_shaft_Ksi(Lp, G_si, r_m, d_diameter_pile) / 1000000)\n",
    "mu = return_mu(G_si, r_m, d_diameter_pile, Ep, A_pile)\n",
    "omega = return_omega(Kbi, Ep, A_pile, mu) * 1000000\n",
    "\n",
    "print(f\"The stiffness of a Single Pile at the base:  Kbi = {Kbi:.3f} [MN/m].\")\n",
    "print(f\"The stiffness of a Single Pile at the shaft:  Ksi = {Ksi:.3f} [MN/m].\")\n",
    "\n",
    "print(f\"The settlement of a Single Pile:  s = {(return_single_pile_settlement(Q, Ksi, Kbi) * 1000):.3f} [mm].\")\n",
    "print(f\"Mu = {mu:.3f}\")\n",
    "print(f\"Omega = {omega:.3f}\")"
   ]
  },
  {
   "cell_type": "markdown",
   "id": "c32cd43d",
   "metadata": {},
   "source": [
    "SLS DESIGN CHECK FOR GROUP PILE\n",
    "<br></br>"
   ]
  },
  {
   "cell_type": "code",
   "execution_count": null,
   "id": "5e0f28e6",
   "metadata": {},
   "outputs": [],
   "source": []
  },
  {
   "cell_type": "code",
   "execution_count": null,
   "id": "ceb0942f",
   "metadata": {},
   "outputs": [],
   "source": []
  },
  {
   "cell_type": "code",
   "execution_count": null,
   "id": "82b496b8",
   "metadata": {},
   "outputs": [],
   "source": []
  },
  {
   "cell_type": "code",
   "execution_count": null,
   "id": "d3520642",
   "metadata": {},
   "outputs": [],
   "source": []
  },
  {
   "cell_type": "code",
   "execution_count": null,
   "id": "1cad2a47",
   "metadata": {},
   "outputs": [],
   "source": []
  },
  {
   "cell_type": "code",
   "execution_count": null,
   "id": "1e4e56f9",
   "metadata": {},
   "outputs": [],
   "source": []
  },
  {
   "cell_type": "code",
   "execution_count": null,
   "id": "4a3658e3",
   "metadata": {},
   "outputs": [],
   "source": []
  },
  {
   "cell_type": "markdown",
   "id": "d8436ad8",
   "metadata": {},
   "source": [
    "## Section 4: Results and Design Sizing"
   ]
  },
  {
   "cell_type": "code",
   "execution_count": null,
   "id": "23d9c894",
   "metadata": {},
   "outputs": [],
   "source": []
  },
  {
   "cell_type": "code",
   "execution_count": null,
   "id": "ac3043fb",
   "metadata": {},
   "outputs": [],
   "source": []
  },
  {
   "cell_type": "code",
   "execution_count": null,
   "id": "5bb05e04",
   "metadata": {},
   "outputs": [],
   "source": []
  },
  {
   "cell_type": "markdown",
   "id": "3ee32796",
   "metadata": {},
   "source": [
    "## Section 5: Additional Considerations"
   ]
  },
  {
   "cell_type": "code",
   "execution_count": null,
   "id": "3265dbb9",
   "metadata": {},
   "outputs": [],
   "source": []
  },
  {
   "cell_type": "code",
   "execution_count": null,
   "id": "a7a737e4",
   "metadata": {},
   "outputs": [],
   "source": []
  },
  {
   "cell_type": "code",
   "execution_count": null,
   "id": "c01de58f",
   "metadata": {},
   "outputs": [],
   "source": []
  },
  {
   "cell_type": "code",
   "execution_count": null,
   "id": "8c35f7af",
   "metadata": {},
   "outputs": [],
   "source": []
  }
 ],
 "metadata": {
  "kernelspec": {
   "display_name": "Python 3 (ipykernel)",
   "language": "python",
   "name": "python3"
  },
  "language_info": {
   "codemirror_mode": {
    "name": "ipython",
    "version": 3
   },
   "file_extension": ".py",
   "mimetype": "text/x-python",
   "name": "python",
   "nbconvert_exporter": "python",
   "pygments_lexer": "ipython3",
   "version": "3.9.12"
  },
  "toc": {
   "base_numbering": 1,
   "nav_menu": {},
   "number_sections": true,
   "sideBar": true,
   "skip_h1_title": false,
   "title_cell": "Table of Contents",
   "title_sidebar": "Contents",
   "toc_cell": false,
   "toc_position": {},
   "toc_section_display": true,
   "toc_window_display": false
  },
  "varInspector": {
   "cols": {
    "lenName": 16,
    "lenType": 16,
    "lenVar": 40
   },
   "kernels_config": {
    "python": {
     "delete_cmd_postfix": "",
     "delete_cmd_prefix": "del ",
     "library": "var_list.py",
     "varRefreshCmd": "print(var_dic_list())"
    },
    "r": {
     "delete_cmd_postfix": ") ",
     "delete_cmd_prefix": "rm(",
     "library": "var_list.r",
     "varRefreshCmd": "cat(var_dic_list()) "
    }
   },
   "types_to_exclude": [
    "module",
    "function",
    "builtin_function_or_method",
    "instance",
    "_Feature"
   ],
   "window_display": false
  }
 },
 "nbformat": 4,
 "nbformat_minor": 5
}
