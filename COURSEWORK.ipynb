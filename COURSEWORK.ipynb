{
 "cells": [
  {
   "cell_type": "markdown",
   "id": "aac7572d",
   "metadata": {},
   "source": [
    "# Coursework - **ORGANIC RANKINE CYCLE** (ORC)\n",
    "\n",
    "## Normal Rankine Cycle\n",
    "\n",
    "The Normal Rankine cycle is a thermodynamic cycle used to generate electricity in power plants. It is named after William John Macquorn Rankine, a Scottish engineer and physicist who developed it in the 19th century. The Rankine cycle involves a continuous loop of four main processes:\n",
    "\n",
    "1. Heat is added to a working fluid (often water) in a boiler to generate high-pressure, high-temperature steam.\n",
    "\n",
    "2. The steam is expanded through a turbine, which converts the thermal energy of the steam into mechanical energy to drive an electric generator.\n",
    "\n",
    "3. The exhaust steam from the turbine is condensed back into water using a condenser, which releases the heat energy to a cooling medium (usually water or air).\n",
    "\n",
    "4. The condensed water is then pumped back to the boiler to repeat the cycle.\n",
    "\n",
    "The Rankine cycle is widely used in power generation because it is relatively efficient and can be used with a variety of fuels, including coal, natural gas, and nuclear fuel. It is also commonly used in refrigeration and air conditioning systems, where it is known as the vapor compression cycle.\n",
    "\n",
    "<br></br>\n",
    "\n",
    "## Organic Rankine Cycle (ORC)\n",
    "\n",
    "The Organic Rankine Cycle (ORC) is a variation of the Rankine cycle that is used to generate electricity from low-temperature heat sources, such as geothermal or waste heat from industrial processes. The main difference between the ORC and the traditional Rankine cycle is that the working fluid used in the ORC is an organic compound with a lower boiling point than water, this organic fluid is high molecular mass fluid whose vaporization temperature is lower than that of water. This allows the ORC to operate at lower temperatures and pressures, making it well-suited for use with low-grade heat sources. The ORC operates in a similar way to the traditional Rankine cycle. The working fluid is vaporized in a heat exchanger, and the resulting vapor is used to drive a turbine, which in turn drives an electric generator. The exhaust vapor is then condensed back into a liquid using a condenser, and the cycle repeats. Because the ORC can operate at lower temperatures and pressures, it is more efficient than the traditional Rankine cycle when used with low-grade heat sources. It is also more flexible in terms of the types of fuels it can use, as it can operate with a wide range of organic compounds, including refrigerants, hydrocarbons, and halocarbons. The low temperature heat is converted into useful work, that can itself be converted into electricity.\n",
    "\n",
    "We will take a look at the ORC in particular when applied for waste heat recovery from hydrocarbon fields.\n",
    "\n",
    "In thermodynamics, isentropic refers to a process that occurs without any change in the entropy of a system. Entropy is a measure of the disorder or randomness of a system, and any process that increases the entropy of a system is said to be irreversible.In an isentropic process, the entropy of the system remains constant. This means that the process occurs in a reversible and adiabatic (no heat transfer) manner. In other words, no heat is added to or removed from the system during the process, and the process is carried out slowly enough that the system can adjust to any changes in pressure or temperature without generating any entropy.Isentropic processes are often used as an idealized model in thermodynamics to simplify calculations and provide a theoretical upper limit on the efficiency of a system. For example, the idealized isentropic compression of a gas is used to model the compression stroke of an internal combustion engine, and the isentropic expansion of a gas is used to model the expansion stroke of a steam turbine.\n",
    "\n",
    "\n",
    "1-2 Isentropic compression in a pump.\n",
    "2-3 Constant pressure heat addition in a boiler.\n",
    "3-4 Isentropic expansion in a turbine.\n",
    "4-1 Constant pressure heat rejection in a condenser.\n",
    "\n",
    "<br></br>\n",
    "\n",
    "## Dry vs Wet Working Conditions\n",
    "\n",
    "In an Organic Rankine Cycle (ORC), the terms \"dry\" and \"wet\" refer to the working conditions of the working fluid as it passes through the turbine.\n",
    "\n",
    "In dry working conditions, the working fluid is completely in a gaseous state as it passes through the turbine. This means that there is no liquid present in the fluid, and it behaves like an ideal gas. The advantage of dry working conditions is that they result in higher turbine efficiency, as there is no liquid present to cause any erosion or damage to the turbine blades. However, dry working conditions can only be achieved at high temperatures, where the working fluid has a very low boiling point.\n",
    "\n",
    "In wet working conditions, the working fluid is partially in a liquid state as it passes through the turbine. This occurs when the temperature of the working fluid is close to its boiling point, and some of the fluid condenses into a liquid. The advantage of wet working conditions is that they can be achieved at lower temperatures than dry working conditions, which allows the ORC to operate with lower-grade heat sources. However, wet working conditions can reduce the efficiency of the turbine, as the liquid can cause erosion and damage to the turbine blades.\n",
    "\n",
    "In general, the choice between dry and wet working conditions in an ORC depends on the temperature and pressure of the heat source, as well as the properties of the working fluid. For low-temperature heat sources, wet working conditions are often more practical, while dry working conditions are preferred for high-temperature heat sources.\n",
    "\n",
    "<br></br>\n",
    "\n",
    "## Waste Heat from Hydrocarbon fields\n",
    "\n",
    "1. Mature hydrocarbon fields co produce large volumes of water.\n",
    "2. Water production increases with time, oil production decreases.\n",
    "3. Temperature of co produced water is typically 65 150 °C.\n",
    "4. Combination of moderate temperature and large volumes can be favorable for generating electricity or for district heating.\n",
    "\n",
    "![Water and Oil production vs Time](attachment:OIL%20WATER%20VS%20TIME.png)\n",
    "\n",
    "<br></br>\n",
    "\n",
    "## ORC Steps\n",
    "\n",
    "1. After the separator, the geofluid passes through the evaporator, transferring heat to the working fluid.\n",
    "2. The heated working fluid (saturated or superheated vapor) expands through the turbine.\n",
    "3. The working fluid exiting the turbine is then condensed.\n",
    "4. Re pressurized by the feed pump and the cycle starts again.\n",
    "\n",
    "Working Fluid -> Desirable properties: low specific volumes, high efficiency, moderate pressures in heat exchangers, safe, low cost and low environmental impact."
   ]
  },
  {
   "cell_type": "markdown",
   "id": "613909d6",
   "metadata": {},
   "source": [
    "## ORC - Organic Rankine Cycle"
   ]
  },
  {
   "cell_type": "code",
   "execution_count": 1,
   "id": "8ccc6d49",
   "metadata": {
    "scrolled": true
   },
   "outputs": [
    {
     "data": {
      "text/html": [
       "<style>.container { width:100% !important; }</style>"
      ],
      "text/plain": [
       "<IPython.core.display.HTML object>"
      ]
     },
     "metadata": {},
     "output_type": "display_data"
    }
   ],
   "source": [
    "from IPython.display import display, HTML, Latex\n",
    "display(HTML(\"<style>.container { width:100% !important; }</style>\"))\n",
    "\n",
    "# degrees_symbol = display(Latex(f'$^\\circ$C'))\n",
    "\n",
    "import math\n",
    "import numpy as np\n",
    "import plotly as pl\n",
    "import plotly.graph_objects as go\n",
    "import seaborn\n",
    "import pandas\n",
    "import matplotlib.pyplot as plt\n",
    "\n",
    "# (&nbsp;  )"
   ]
  },
  {
   "cell_type": "markdown",
   "id": "a6c4fb8c",
   "metadata": {},
   "source": [
    "**Silivri region of Istanbul (26 facilities, individual data), Turkey**\n",
    "------------------------------------"
   ]
  },
  {
   "cell_type": "code",
   "execution_count": 23,
   "id": "60bc044c",
   "metadata": {
    "scrolled": true
   },
   "outputs": [
    {
     "name": "stdout",
     "output_type": "stream",
     "text": [
      "DESIGN CALCULATION RESULTS\n",
      "------------------------------------\n",
      "\n",
      "The Area of the pipe of the exhaust fluid A_exh = 0.13 [m2]\n",
      "------------------------------------\n",
      "\n",
      "The Volumetric flow rate of the exhaust, V_exh = 14281.93 [m3/h].\n",
      "------------------------------------\n",
      "\n",
      "The volumetric value of the humid gas was measured at the rate of 35.5% of the actual exhaust gas volumetric value.Therefore the corrected Volumetric flow rate of the exhaust as humid gas, V_exh_humid = 5070.09 [m3/h].\n",
      "------------------------------------\n",
      "\n",
      "The Mass flow rate of the exhaust, m_exh = 6337.61 [m3/h].\n",
      "\n",
      "Here it is important to note that the Mass flow rate m_exh was calculated as a function of the humid exhaust volumetric flow rate, V_exh_humid. In the case of liquid fluit as the source of wasted heat the humidity coefficient will be 1.\n",
      "------------------------------------\n",
      "\n",
      "The amount of WASTED HEAT from the fascility, Q_wasted_heat_total = 687.31 [kW].\n",
      "------------------------------------\n",
      "\n",
      "The amount of electrical energy that can be recovered is E_electrical = 168.39 [kW].\n",
      "------------------------------------\n"
     ]
    }
   ],
   "source": [
    "# Design Parameters\n",
    "T_0_ambient = 16.2 # [degrees C] - The abmient temperature of the system where the ORC is implemented.\n",
    "T_exh_fluid = 491.73 # [degrees C] - The temperature of the exhaust fluid acting as a source for heat recovery.\n",
    "T_0_ambient_modified = 140 # [degrees C] - The modified ambient temperature.\n",
    "\n",
    "p_exh_density = 1.25 # [kg/(N * m3)] - The density of the exhaust fluid.\n",
    "c_exh_heat_capacity = 1.11 # [kJ/kg] The heat capacity of the exhaust fluid.\n",
    "\n",
    "v_exh_fluid_velocity = 31.57 # [m/s] - The velocity of the exhaust fluid .\n",
    "d_exh = 0.4 # [m] - The diameter of the exhaust pipe network for the source fluid.\n",
    "v_volumetric_value_humid_gas = 0.355\n",
    "\n",
    "efficiency_conversion_electricity = 0.245 # The conversion from the ORC from waste heat to electricity\n",
    "\n",
    "T_delta = T_exh_fluid - T_0_ambient_modified\n",
    "A_exh = math.pi * d_exh ** 2 / 4 \n",
    "V_exh_volumetric_flow = 3600 * A_exh * v_exh_fluid_velocity # [m3/h] - The volumetric flow rate is equal to the area of the pipe multiplied by the fluid velocity and converted to m3 per hour.\n",
    "V_exh_volumetric_flow_humid = v_volumetric_value_humid_gas * V_exh_volumetric_flow\n",
    "\n",
    "m_exh_mass_flow = V_exh_volumetric_flow_humid * p_exh_density\n",
    "Q_waste_heat = m_exh_mass_flow * c_exh_heat_capacity * T_delta /3600\n",
    "\n",
    "\n",
    "E_electrical = Q_waste_heat * efficiency_conversion_electricity\n",
    "\n",
    "\n",
    "print(f\"DESIGN CALCULATION RESULTS\")\n",
    "print('------------------------------------')\n",
    "print()\n",
    "print(f\"The Area of the pipe of the exhaust fluid A_exh = {A_exh:.2f} [m2]\")\n",
    "print('------------------------------------')\n",
    "print()\n",
    "\n",
    "print(f\"The Volumetric flow rate of the exhaust, V_exh = {V_exh_volumetric_flow:.2f} [m3/h].\")\n",
    "print('------------------------------------')\n",
    "print()\n",
    "\n",
    "print(f\"The volumetric value of the humid gas was measured at the rate of {(v_volumetric_value_humid_gas * 100):.1f}% of the actual exhaust gas volumetric value.\"\n",
    "      f\"Therefore the corrected Volumetric flow rate of the exhaust as humid gas, V_exh_humid = {V_exh_volumetric_flow_humid:.2f} [m3/h].\")\n",
    "print('------------------------------------')\n",
    "print()\n",
    "\n",
    "print(f\"The Mass flow rate of the exhaust, m_exh = {m_exh_mass_flow:.2f} [kg/h].\")\n",
    "print()\n",
    "print(f\"Here it is important to note that the Mass flow rate m_exh was calculated as a function of the humid exhaust volumetric flow rate, V_exh_humid. In the case of liquid fluit as the source of wasted heat\"\n",
    "      f\" the humidity coefficient will be 1.\")\n",
    "print('------------------------------------')\n",
    "print()\n",
    "\n",
    "print(f\"The amount of WASTED HEAT from the fascility, Q_wasted_heat_total = {Q_waste_heat:.2f} [kW].\")\n",
    "print('------------------------------------')\n",
    "print()\n",
    "\n",
    "print(f\"The amount of electrical energy that can be recovered is E_electrical = {E_electrical:.2f} [kW].\")\n",
    "print('------------------------------------')"
   ]
  },
  {
   "attachments": {},
   "cell_type": "markdown",
   "id": "52e36192",
   "metadata": {},
   "source": [
    "**ORC units implemented in communities in Alaska**\n",
    "------------------------------------"
   ]
  },
  {
   "cell_type": "code",
   "execution_count": 41,
   "id": "342dc037",
   "metadata": {
    "scrolled": true
   },
   "outputs": [
    {
     "name": "stdout",
     "output_type": "stream",
     "text": [
      "DESIGN CALCULATION RESULTS\n",
      "------------------------------------\n",
      "\n",
      "The Area of the pipe of the exhaust fluid A_exh = 0.01 [m2]\n",
      "------------------------------------\n",
      "\n",
      "The Volumetric flow rate of the exhaust, V_exh = 2368.65 [m3/h].\n",
      "------------------------------------\n",
      "\n",
      "The volumetric value of the humid gas was measured at the rate of 35.5% of the actual exhaust gas volumetric value.Therefore the corrected Volumetric flow rate of the exhaust as humid gas, V_exh_humid = 840.87 [m3/h].\n",
      "------------------------------------\n",
      "\n",
      "The Mass flow rate of the exhaust, m_exh = 1051.09 [kg/h] or 0.292 [kg/s].\n",
      "\n",
      "Here it is important to note that the Mass flow rate m_exh was calculated as a function of the humid exhaust volumetric flow rate, V_exh_humid. In the case of liquid fluit as the source of wasted heat the humidity coefficient will be 1.\n",
      "------------------------------------\n",
      "\n",
      "The amount of WASTED HEAT from the fascility, Q_wasted_heat_total = 150.37 [kW].\n",
      "------------------------------------\n",
      "\n",
      "The amount of electrical energy that can be recovered is E_electrical = 57.14 [kW].\n",
      "------------------------------------\n"
     ]
    }
   ],
   "source": [
    "# Design Parameters\n",
    "T_0_ambient = 16.2 # [degrees C] - The abmient temperature of the system where the ORC is implemented.\n",
    "T_exh_fluid = 537.78 # [degrees C] - The temperature of the exhaust fluid acting as a source for heat recovery.\n",
    "T_0_ambient_modified = 73.8 # [degrees C] - The modified ambient temperature.\n",
    "\n",
    "p_exh_density = 1.25 # [kg/(N * m3)] - The density of the exhaust fluid.\n",
    "c_exh_heat_capacity = 1.11 # [kJ/kg] The heat capacity of the exhaust fluid.\n",
    "\n",
    "v_exh_fluid_velocity = 106 # [m/s] - The velocity of the exhaust fluid .\n",
    "d_exh = 0.0889 # [m] - The diameter of the exhaust pipe network for the source fluid.\n",
    "v_volumetric_value_humid_gas = 0.355\n",
    "\n",
    "efficiency_conversion_electricity = 0.38 # The conversion from the ORC from waste heat to electricity\n",
    "\n",
    "T_delta = T_exh_fluid - T_0_ambient_modified\n",
    "A_exh = math.pi * d_exh ** 2 / 4 \n",
    "V_exh_volumetric_flow = 3600 * A_exh * v_exh_fluid_velocity # [m3/h] - The volumetric flow rate is equal to the area of the pipe multiplied by the fluid velocity and converted to m3 per hour.\n",
    "V_exh_volumetric_flow_humid = v_volumetric_value_humid_gas * V_exh_volumetric_flow\n",
    "\n",
    "m_exh_mass_flow = V_exh_volumetric_flow_humid * p_exh_density\n",
    "Q_waste_heat = m_exh_mass_flow * c_exh_heat_capacity * T_delta /3600\n",
    "\n",
    "\n",
    "E_electrical = Q_waste_heat * efficiency_conversion_electricity\n",
    "\n",
    "\n",
    "\n",
    "print(f\"DESIGN CALCULATION RESULTS\")\n",
    "print('------------------------------------')\n",
    "print()\n",
    "print(f\"The Area of the pipe of the exhaust fluid A_exh = {A_exh:.2f} [m2]\")\n",
    "print('------------------------------------')\n",
    "print()\n",
    "\n",
    "print(f\"The Volumetric flow rate of the exhaust, V_exh = {V_exh_volumetric_flow:.2f} [m3/h].\")\n",
    "print('------------------------------------')\n",
    "print()\n",
    "\n",
    "print(f\"The volumetric value of the humid gas was measured at the rate of {(v_volumetric_value_humid_gas * 100):.1f}% of the actual exhaust gas volumetric value.\"\n",
    "      f\"Therefore the corrected Volumetric flow rate of the exhaust as humid gas, V_exh_humid = {V_exh_volumetric_flow_humid:.2f} [m3/h].\")\n",
    "print('------------------------------------')\n",
    "print()\n",
    "\n",
    "print(f\"The Mass flow rate of the exhaust, m_exh = {m_exh_mass_flow:.2f} [kg/h] or {(m_exh_mass_flow/3600):.3f} [kg/s].\")\n",
    "print()\n",
    "print(f\"Here it is important to note that the Mass flow rate m_exh was calculated as a function of the humid exhaust volumetric flow rate, V_exh_humid. In the case of liquid fluit as the source of wasted heat\"\n",
    "      f\" the humidity coefficient will be 1.\")\n",
    "print('------------------------------------')\n",
    "print()\n",
    "\n",
    "print(f\"The amount of WASTED HEAT from the fascility, Q_wasted_heat_total = {Q_waste_heat:.2f} [kW].\")\n",
    "print('------------------------------------')\n",
    "print()\n",
    "\n",
    "print(f\"The amount of electrical energy that can be recovered is E_electrical = {E_electrical:.2f} [kW].\")\n",
    "print('------------------------------------')"
   ]
  },
  {
   "cell_type": "markdown",
   "id": "67556b4c",
   "metadata": {},
   "source": [
    "**100 MWe electric arc furnace in Belgium**\n",
    "------------------------------------"
   ]
  },
  {
   "cell_type": "code",
   "execution_count": 40,
   "id": "0b5d4898",
   "metadata": {},
   "outputs": [
    {
     "name": "stdout",
     "output_type": "stream",
     "text": [
      "DESIGN CALCULATION RESULTS\n",
      "------------------------------------\n",
      "\n",
      "The Area of the pipe of the exhaust fluid A_exh = 0.79 [m2]\n",
      "------------------------------------\n",
      "\n",
      "The Volumetric flow rate of the exhaust, V_exh = 282743.34 [m3/h].\n",
      "------------------------------------\n",
      "\n",
      "The volumetric value of the humid gas was measured at the rate of 27.0% of the actual exhaust gas volumetric value.Therefore the corrected Volumetric flow rate of the exhaust as humid gas, V_exh_humid = 76340.70 [m3/h].\n",
      "------------------------------------\n",
      "\n",
      "The Mass flow rate of the exhaust, m_exh = 95425.88 [kg/h] or 26.507 [kg/s].\n",
      "\n",
      "Here it is important to note that the Mass flow rate m_exh was calculated as a function of the humid exhaust volumetric flow rate, V_exh_humid. In the case of liquid fluit as the source of wasted heat the humidity coefficient will be 1.\n",
      "------------------------------------\n",
      "\n",
      "The amount of WASTED HEAT from the fascility, Q_wasted_heat_total = 5678.63 [kW].\n",
      "------------------------------------\n",
      "\n",
      "The amount of electrical energy that can be recovered is E_electrical = 1135.73 [kW].\n",
      "------------------------------------\n"
     ]
    }
   ],
   "source": [
    "# Design Parameters\n",
    "T_0_ambient = 16.2 # [degrees C] - The abmient temperature of the system where the ORC is implemented.\n",
    "T_exh_fluid = 283 # [degrees C] - The temperature of the exhaust fluid acting as a source for heat recovery.\n",
    "T_0_ambient_modified = 90 # [degrees C] - The modified ambient temperature.\n",
    "\n",
    "p_exh_density = 1.25 # [kg/(N * m3)] - The density of the exhaust fluid.\n",
    "c_exh_heat_capacity = 1.11 # [kJ/kg] The heat capacity of the exhaust fluid.\n",
    "\n",
    "v_exh_fluid_velocity = 100 # [m/s] - The velocity of the exhaust fluid .\n",
    "d_exh = 1 # [m] - The diameter of the exhaust pipe network for the source fluid.\n",
    "v_volumetric_value_humid_gas = 0.27\n",
    "\n",
    "efficiency_conversion_electricity = 0.2 # The conversion from the ORC from waste heat to electricity\n",
    "\n",
    "T_delta = T_exh_fluid - T_0_ambient_modified\n",
    "A_exh = math.pi * d_exh ** 2 / 4 \n",
    "V_exh_volumetric_flow = 3600 * A_exh * v_exh_fluid_velocity # [m3/h] - The volumetric flow rate is equal to the area of the pipe multiplied by the fluid velocity and converted to m3 per hour.\n",
    "V_exh_volumetric_flow_humid = v_volumetric_value_humid_gas * V_exh_volumetric_flow\n",
    "\n",
    "m_exh_mass_flow = V_exh_volumetric_flow_humid * p_exh_density\n",
    "Q_waste_heat = m_exh_mass_flow * c_exh_heat_capacity * T_delta /3600\n",
    "\n",
    "\n",
    "E_electrical = Q_waste_heat * efficiency_conversion_electricity\n",
    "\n",
    "print(f\"DESIGN CALCULATION RESULTS\")\n",
    "print('------------------------------------')\n",
    "print()\n",
    "print(f\"The Area of the pipe of the exhaust fluid A_exh = {A_exh:.2f} [m2]\")\n",
    "print('------------------------------------')\n",
    "print()\n",
    "\n",
    "print(f\"The Volumetric flow rate of the exhaust, V_exh = {V_exh_volumetric_flow:.2f} [m3/h].\")\n",
    "print('------------------------------------')\n",
    "print()\n",
    "\n",
    "print(f\"The volumetric value of the humid gas was measured at the rate of {(v_volumetric_value_humid_gas * 100):.1f}% of the actual exhaust gas volumetric value.\"\n",
    "      f\"Therefore the corrected Volumetric flow rate of the exhaust as humid gas, V_exh_humid = {V_exh_volumetric_flow_humid:.2f} [m3/h].\")\n",
    "print('------------------------------------')\n",
    "print()\n",
    "\n",
    "print(f\"The Mass flow rate of the exhaust, m_exh = {m_exh_mass_flow:.2f} [kg/h] or {(m_exh_mass_flow/3600):.3f} [kg/s].\")\n",
    "print()\n",
    "print(f\"Here it is important to note that the Mass flow rate m_exh was calculated as a function of the humid exhaust volumetric flow rate, V_exh_humid. In the case of liquid fluit as the source of wasted heat\"\n",
    "      f\" the humidity coefficient will be 1.\")\n",
    "print('------------------------------------')\n",
    "print()\n",
    "\n",
    "print(f\"The amount of WASTED HEAT from the fascility, Q_wasted_heat_total = {Q_waste_heat:.2f} [kW].\")\n",
    "print('------------------------------------')\n",
    "print()\n",
    "\n",
    "print(f\"The amount of electrical energy that can be recovered is E_electrical = {E_electrical:.2f} [kW].\")\n",
    "print('------------------------------------')"
   ]
  },
  {
   "cell_type": "markdown",
   "id": "00e96a9e",
   "metadata": {},
   "source": [
    "[1] Varis, C. and Ozcira Ozkilic, S. (2023) ‘In a biogas power plant from waste heat power generation system using Organic Rankine Cycle and multi-criteria optimization’, Case Studies in Thermal Engineering, 44, p. 102729. doi:https://doi.org/10.1016/j.csite.2023.102729.\n",
    "\n",
    "[2] Nemati, A. et al. (2017) ‘A comparative thermodynamic analysis of ORC and Kalina cycles for waste heat recovery: A case study for CGAM cogeneration system’, Case Studies in Thermal Engineering, 9, pp. 1–13. doi:https://doi.org/10.1016/j.csite.2016.11.003.\n",
    "\n",
    "[3] Loeffler, B. and Whitney, E. (2017) ‘An Alaska case study: Organic Rankine cycle technology’, Journal of Renewable and Sustainable Energy, 9(6), p. 061707. doi:https://doi.org/10.1063/1.4986583.\n",
    "\n",
    "[4] Jouhara, H. et al. (2018) ‘Waste heat recovery technologies and applications’, Thermal Science and Engineering Progress, 6, pp. 268–289. doi:https://doi.org/10.1016/j.tsep.2018.04.017.\n",
    "\n",
    "[5] Lecompte, S. et al. (2017) ‘Case Study of an Organic Rankine Cycle (ORC) for Waste Heat Recovery from an Electric Arc Furnace (EAF)’, Energies, 10(5), p. 649. doi:https://doi.org/10.3390/en10050649.\n"
   ]
  },
  {
   "cell_type": "markdown",
   "id": "9bbac422",
   "metadata": {},
   "source": [
    "We are now going to take a look at a Design Calculation Procedure for the expected electrical energy to be recovered from an Organic Rankine Cycle. The jupyter notebook calculations allow for quick and fast production of results, as well as extension of the implementations to accommodate future considerations. In total 3 different installation sites, Biogas production fascilities in Istanbul, Turkey, Gas Engine Exhausts in Alaska and Large Arc Furnaces in Belgium were investigated and the results from each of them were replicated, here it is important to note that these design calculations will be applicable to other sites as well. In summary we can see here in the table that the technology is not only widely available, but also allows for significant energy recovery sometimes in the Mega Watt range - transforming up to 35 percent of wasted heat energy to electrical, depending on the system efficiency and scale as well as the properties of the exhaust and working fluids, which is a very high conversion ratio - in comparison the photovoltaic conversion ration to electricity is between 15 and 20 percent.\n",
    "The sustainability, robustness and feasibility of the technology are already proven by numerous examples, the technology is very prominent with more than 80 percent of worldwide production of electricity useing some variation of the Rankine Cycle, however the Organic and Kalina variants which can use organic working fluids with lower boiling point and water and Ammonia mixture respectively are less widespread. The technological outlook is very promising, but has a few drawbacks as well - it is very reliant on the quality of the Waste Heat Source, the working fluid and its properties.\n",
    "On the other hand the Economic factors are in my opinion the more significant barrier of entry - due to high CAPEX and OPEX and the low to moderate economic efficiency investors are hesitant to invest in technology that is still somewhat poorly understood. Even though there are large scale sites and pilot models that recuperate the costs in less than 3 years, the ORC system itself is not the only expenditure, usually accompanied by significant auxiliary costs. Preparation in advance for the installation of the ORC system and using the technology can significantly reduce those costs and attract companies to invest in a clean and efficient technology that will have significant impact on our Carbon footprint and the amount of energy we can extract from a variety of sources."
   ]
  }
 ],
 "metadata": {
  "kernelspec": {
   "display_name": "Python 3 (ipykernel)",
   "language": "python",
   "name": "python3"
  },
  "language_info": {
   "codemirror_mode": {
    "name": "ipython",
    "version": 3
   },
   "file_extension": ".py",
   "mimetype": "text/x-python",
   "name": "python",
   "nbconvert_exporter": "python",
   "pygments_lexer": "ipython3",
   "version": "3.9.12"
  },
  "toc": {
   "base_numbering": 1,
   "nav_menu": {},
   "number_sections": true,
   "sideBar": true,
   "skip_h1_title": false,
   "title_cell": "Table of Contents",
   "title_sidebar": "Contents",
   "toc_cell": false,
   "toc_position": {},
   "toc_section_display": true,
   "toc_window_display": false
  },
  "varInspector": {
   "cols": {
    "lenName": 16,
    "lenType": 16,
    "lenVar": 40
   },
   "kernels_config": {
    "python": {
     "delete_cmd_postfix": "",
     "delete_cmd_prefix": "del ",
     "library": "var_list.py",
     "varRefreshCmd": "print(var_dic_list())"
    },
    "r": {
     "delete_cmd_postfix": ") ",
     "delete_cmd_prefix": "rm(",
     "library": "var_list.r",
     "varRefreshCmd": "cat(var_dic_list()) "
    }
   },
   "types_to_exclude": [
    "module",
    "function",
    "builtin_function_or_method",
    "instance",
    "_Feature"
   ],
   "window_display": false
  }
 },
 "nbformat": 4,
 "nbformat_minor": 5
}
