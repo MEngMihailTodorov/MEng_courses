{
 "cells": [
  {
   "cell_type": "markdown",
   "id": "68863ed9",
   "metadata": {},
   "source": [
    "# Energy from Waste Incineration\n",
    "## Waste Heat source, recovery and use\n",
    "\n",
    "<br></br>\n",
    "\n",
    "## Waste Heat Source\n",
    "* **Industrial sites** offer opportunities for waste heat recovery, from low to high T <span style='color: magenta'>(95 oC to >500 oC)</span>.\n",
    "* Metals manufacturing & reheating, coke ovens, fume incinerators, turbine & engine exhausts, heat treating furnaces, drying & baking processes, cement kilns, distillation columns, cooling water from industrial processes.\n",
    "* Retrofitting could be a problem, if the infrastructure cannot sustain the source. Also retrofitting, managing or accommodating sources for a short amount of time ( <5 years) could be economically not feasible.\n",
    "<br></br>\n",
    "\n",
    "## Medium to high temperature Waste\n",
    "\n",
    "* **Steam boiler exhaust** - <span style='color: magenta'>230 oC to >480 oC</span>.\n",
    "* **Gas turbine exhaust** - <span style='color: magenta'>370 oC to >540 oC</span>.\n",
    "* **Reciprocating engine exhaust** - Piston Engine - <span style='color: magenta'>315 oC to >600 oC</span>.\n",
    "* **Turbo charged Reciprocating engine exhaust** - <span style='color: magenta'>230 oC to >370 oC</span>.\n",
    "* **Heat Treatment Furnace** - <span style='color: magenta'>425 oC to >650 oC</span>.\n",
    "* **Drying and baking Ovens** - <span style='color: magenta'>230 oC to >600 oC</span>.\n",
    "* **Catalytic crackers** -<span style='color: magenta'>425 oC to >650 oC</span>.\n",
    "* **Annealing Furnace Cooling Systems - <span style='color: magenta'>425 oC to >650 oC</span>.\n",
    "* **Nickel Refining Furnace** - <span style='color: magenta'>1370 oC to >1650 oC</span>.\n",
    "* **Aluminium Refining Furnace** - <span style='color: magenta'>650 oC to >760 oC</span>.\n",
    "* **Zinc Refining Furnace** - <span style='color: magenta'>760 oC to >1100 oC</span>.\n",
    "* **Copper Refining Furnace** - <span style='color: magenta'>760 oC to >815 oC</span>.\n",
    "* **Steel Heating Furnace** - <span style='color: magenta'>925 oC to >1050 oC</span>.\n",
    "* **Copper Reverberatory Furnace** - A reverberatory furnace is a metallurgical or process furnace that isolates the material being processed from contact with the fuel, but not from contact with combustion gases. - <span style='color: magenta'>900 oC to >1100 oC</span>.\n",
    "* **Open Hearth Furnace** - <span style='color: magenta'>650 oC to >700 oC</span>.\n",
    "* **Cement Klin (Dry Process)** - <span style='color: magenta'>620 oC to >730 oC</span>.\n",
    "* **Glass Melting Furnace** - <span style='color: magenta'>1000 oC to >1550 oC</span>.\n",
    "* **Hydrogen Plants** - <span style='color: magenta'>650 oC to >1000 oC</span>.\n",
    "* **SOLID WASTE INCINERATORS** - <span style='color: magenta'>650 oC to >1000 oC</span>.\n",
    "* **Fume Incinerators** - <span style='color: magenta'>650 oC to >1450 oC</span>.\n",
    "\n",
    "<br></br>\n",
    "\n",
    "## Waste **Incineration** for Power Generation\n",
    "\n",
    "* Anthropogenic way of solving human cause pollution. Is it that low Carbon? As long as not producing noxious emissions by directly burning it that is relatively correct.\n",
    "\n",
    "* Recovered waste heat generated during industrial processes can be repurposed to provide electricity, heating and/or hot water.\n",
    "\n",
    "* Waste to Energy **(WtE)** or Energy from Waste **(EfW)**, known colloquially as **“trash-to-cash”**, is a renewable solution that can provide low carbon electricity as well as capture the waste heat generated during the process and utilize in the form of district heating.\n",
    "\n",
    "* **WtE** is a heavily regulated, technically complex sector, but is gaining momentum as **WtE** projects are expected to play a critical role in delivering the Scottish government’s landfill ban, which comes into effect in 2025. Make sure we are just not transforming a landfilling problem to uncontrolled burning problem.\n",
    "\n",
    "### Key Points for Building an **EfW Plant**\n",
    "\n",
    "* Sufficient feedstock volumes, processing needs, storage; adequate road network to facilitate **HGV** deliveries. HGV - Heavy Goods Vehicle.\n",
    "\n",
    "* Permission needed from local authority; can apply directly to UK government.\n",
    "\n",
    "* Must have an Environmental Permit to operate from the Environment Agency.\n",
    "\n",
    "* In operation, extensive, detailed monitoring requirements.\n",
    "\n",
    "* Delicate process to steer an **EfW** projects to market with the full support of communities.\n",
    "\n",
    "* Strict & detailed; imperative to involve experts to navigate the legal requirements from the planning phase through to operation.\n",
    "\n",
    "* Find the right spot, strategically well placed to ensure there is a constant inflow of waste to keep the energy production going. Space, place for expansion are also important considerations. \n",
    "\n",
    "* Monitor **KPIs** constantly. Related from waste source (legal), energy production, utilization and usage - very delicate area. \n",
    "\n",
    "* Transform public, community opposition to acceptance and then **Engagement** and **Participation** - maybe consider crowd funding, private investments.\n",
    "\n",
    "### Legislation covering EfW\n",
    "\n",
    "1. The Pollution Prevention and Control (Scotland) (**PPC**) Regulations 2012.\n",
    "2. European Waste Incineration Directive (**WID**).\n",
    "3. Grid connection consent.\n",
    "4. Building control consent.\n",
    "5. Planning consent.\n",
    "6. Environmental permit.\n",
    "7. Protected species licences.\n",
    "\n",
    "### Key Points for Building \n",
    "\n",
    "1. Waste trucks are weighed on arrival, then unloaded & mixed using cranes. Tipping hall & waste bunker kept at negative air pressure to capture odors.\n",
    "\n",
    "2. Waste is loaded into hoppers to feed 3 combustion chambers operating at <span style='color: magenta'>850°C</span>. Heat from burnt waste converts water in steel tube-lined walls into HP steam, which turns a turbine-driven generator to produce electricity for the Grid.\n",
    "\n",
    "3. Steam is cooled, condensed back into water and returned to the boiler tubes.\n",
    "\n",
    "4. Combustion reduces the waste volume by 90%, leaving an inert ash and metals for recycling. Bottom ash from the grate is sent off site where metals are recovered for recycling. Fly ash collected in the air pollution control equipment and resulting residues (known as **APCr**) are stored in silos for removal from the site in sealed tanker vehicles.\n",
    "\n",
    "5. Air pollution control ensures emissions fully comply with standards set out in the facility's Environmental Permit.\n",
    "\n",
    "6. Throughout the process, emissions are checked via a real-time continuous emission monitoring system.\n",
    "\n",
    "### WtE incineration vs. natural gas \n",
    "\n",
    "* <span style='color: magenta'>70 mt</span> of waste were incinerated in 2017, 118% more than in 1995.\n",
    "\n",
    "* Incineration of 1 t of waste releases <span style='color: magenta'>0.7 t to 1.7 t</span> of CO2.\n",
    "\n",
    "* Although, CO2 from **WtE** is released directly into the atmosphere, only CO2 emissions from fossil sources are considered for the purposes of a global analysis.\n",
    "\n",
    "* As plastics are from fossil sources and are a significant proportion of the material burned, WtE fossil CO2 level is estimated to be <span style='color: magenta'>580g CO2/t</span> of waste combusted.\n",
    "\n",
    "* Hence, electricity generated by WtE has much higher GHG emissions than electricity generated through conventional means, such as natural gas (<span style='color: magenta'>340g CO2eq/kWh</span>).\n",
    "\n",
    "* High proportion of recyclables in waste that could be recycled or composted, with a positive reduction on carbon emissions.\n",
    "\n",
    "* Incinerators require a constant flow of waste to burn, which maintains or increases waste flows rather than reducing them. In the case of Rookery South ERF plant, waste is now brought in daily by diesel HGVs from all over Bedfordshire, adding to local traffic congestion, noise, and pollution.\n",
    "\n",
    "* This will lock societies into a linear economy that justifies a throw-away culture.\n",
    "\n",
    "* The carbon intensity of energy from WtE incineration is twice that the current EU average electricity grid intensity and has much worse climate impacts than conventional electricity generation from fossil fuels such as gas.\n",
    "\n",
    "* As WtE plants are designed to last for 20-30 years, they are **delaying a much needed and urgent transition** to less carbon intensive power generation infrastructure.\n",
    "\n",
    "* Promoting WtE could **undermine efforts** to reach net zero emissions by 2050."
   ]
  },
  {
   "cell_type": "code",
   "execution_count": null,
   "id": "b2378ea6",
   "metadata": {},
   "outputs": [],
   "source": []
  },
  {
   "cell_type": "code",
   "execution_count": 1,
   "id": "f3a9222c",
   "metadata": {},
   "outputs": [
    {
     "data": {
      "text/html": [
       "<style>.container { width:100% !important; }</style>"
      ],
      "text/plain": [
       "<IPython.core.display.HTML object>"
      ]
     },
     "metadata": {},
     "output_type": "display_data"
    }
   ],
   "source": [
    "from IPython.display import display, HTML\n",
    "display(HTML(\"<style>.container { width:100% !important; }</style>\"))"
   ]
  },
  {
   "cell_type": "code",
   "execution_count": null,
   "id": "83c2cea6",
   "metadata": {},
   "outputs": [],
   "source": [
    "from abc import ABC, abstractmethod\n",
    "from math import pi\n",
    "\n",
    "import math\n",
    "import numpy as np\n",
    "import plotly as pl\n",
    "import plotly.graph_objects as go\n",
    "import seaborn\n",
    "import pandas\n",
    "import matplotlib.pyplot as plt\n",
    "\n",
    "# (&nbsp;  )\n"
   ]
  },
  {
   "cell_type": "markdown",
   "id": "05b7f5e9",
   "metadata": {},
   "source": [
    "# Case Studies\n",
    "* Typical Life Time is 25 years, in rare cases this can be extended, but usually the usage of WtE and EfW are viewed as a intermediate solution towards the Energy sustainable goals.\n",
    "\n",
    "## GRREC\n",
    "* <span style='color: magenta'>90 kt of CO2</span> equivalent production of Energy.\n",
    "* Located in Polmadie, the Viridor-owned Glasgow Recycling & Renewable Energy Centre (GRREC) treats <span style='color: magenta'>222 kt/yr</span> of residual waste.\n",
    "* The plant produces power to heat 8000 homes, saving 90 kt CO2/yr.\n",
    "* In 2016, Glasgow City Council sent <span style='color: magenta'>72%</span> of household waste to landfill. Today GRREC keeps <span style='color: magenta'>90%</span> of green bin residual waste from landfill.\n",
    "* Forecast to save Glasgow £254m over its <span style='color: magenta'>25-yr contract</span> whilst creating new jobs, including 20 apprenticeships + 254 work experience places.\n",
    "\n",
    "### Separation Methods\n",
    "* Separation under force (water, air)\n",
    "* Magnetic Separation\n",
    "* Density/Weight Separation\n",
    "* Human induced Separation\n",
    "### Food and Organic Waste\n",
    "* Can eventually start producing Methane (CH4) - which is a lot more ecologically harmful than CO2.\n",
    "* Anaerobic digestion - Biogas.\n",
    "\n",
    "## Fife ERF\n",
    "\n",
    "* **Scottish Carbon Capture Cluster** - to be deposited as CCS (Carbon Capture and Storage) off shore.\n",
    "* Viridor is building an Energy Recovery Facility in Fife to divert household waste from landfill from May-2025.\n",
    "* The facility will process <span style='color: magenta'>238 kt/yr</span>, reducing GHG emissions by up to <span style='color: magenta'>40%</span>.\n",
    "* Energy generated will power c. <span style='color: magenta'>55,000 homes</span>.\n",
    "* Plant located close to the Scottish carbon capture cluster giving potential for future carbon capture, supporting Viridor’s commitment to be net zero by 2040.\n",
    "\n",
    "## South Clyde WtE Plant\n",
    "* Larger than the previous.\n",
    "\n",
    "* Fortum is building a waste-to-energy plant in Glasgow with a processing capacity of <span style='color: magenta'>350 kt/yr of waste</span>.\n",
    "\n",
    "* Plant will generate <span style='color: magenta'>45 MW</span>, i.e. the average annual electricity consumption of <span style='color: magenta'>90,000 homes</span>.\n",
    "\n",
    "* By being heat offtake enabled, it has the potential to provide heat to local district heating systems.\n",
    "\n",
    "* Has the potential to be retrofitted with carbon capture and storage (CCS) technology in the future.\n",
    "\n",
    "* While in construction, it supports c.a. 500 construction jobs. Once operational, it will create around 40 permanent on-site jobs.\n"
   ]
  },
  {
   "cell_type": "markdown",
   "id": "aae87a85",
   "metadata": {},
   "source": [
    "# Roundtrip Efficiency - the overall efficiency\n",
    "# Hybrid Solutions"
   ]
  },
  {
   "cell_type": "code",
   "execution_count": null,
   "id": "4c94b57f",
   "metadata": {},
   "outputs": [],
   "source": []
  }
 ],
 "metadata": {
  "kernelspec": {
   "display_name": "Python 3 (ipykernel)",
   "language": "python",
   "name": "python3"
  },
  "language_info": {
   "codemirror_mode": {
    "name": "ipython",
    "version": 3
   },
   "file_extension": ".py",
   "mimetype": "text/x-python",
   "name": "python",
   "nbconvert_exporter": "python",
   "pygments_lexer": "ipython3",
   "version": "3.9.12"
  },
  "toc": {
   "base_numbering": 1,
   "nav_menu": {},
   "number_sections": true,
   "sideBar": true,
   "skip_h1_title": false,
   "title_cell": "Table of Contents",
   "title_sidebar": "Contents",
   "toc_cell": false,
   "toc_position": {},
   "toc_section_display": true,
   "toc_window_display": false
  },
  "varInspector": {
   "cols": {
    "lenName": 16,
    "lenType": 16,
    "lenVar": 40
   },
   "kernels_config": {
    "python": {
     "delete_cmd_postfix": "",
     "delete_cmd_prefix": "del ",
     "library": "var_list.py",
     "varRefreshCmd": "print(var_dic_list())"
    },
    "r": {
     "delete_cmd_postfix": ") ",
     "delete_cmd_prefix": "rm(",
     "library": "var_list.r",
     "varRefreshCmd": "cat(var_dic_list()) "
    }
   },
   "types_to_exclude": [
    "module",
    "function",
    "builtin_function_or_method",
    "instance",
    "_Feature"
   ],
   "window_display": false
  }
 },
 "nbformat": 4,
 "nbformat_minor": 5
}
