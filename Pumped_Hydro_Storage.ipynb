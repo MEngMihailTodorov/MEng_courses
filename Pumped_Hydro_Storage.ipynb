{
 "cells": [
  {
   "cell_type": "code",
   "execution_count": 1,
   "id": "04ebcefb",
   "metadata": {},
   "outputs": [
    {
     "data": {
      "text/html": [
       "<style>.container { width:100% !important; }</style>"
      ],
      "text/plain": [
       "<IPython.core.display.HTML object>"
      ]
     },
     "metadata": {},
     "output_type": "display_data"
    }
   ],
   "source": [
    "from IPython.display import display, HTML\n",
    "display(HTML(\"<style>.container { width:100% !important; }</style>\"))"
   ]
  },
  {
   "cell_type": "code",
   "execution_count": null,
   "id": "44e9d85c",
   "metadata": {},
   "outputs": [],
   "source": [
    "from abc import ABC, abstractmethod\n",
    "from math import pi\n",
    "\n",
    "import math\n",
    "import numpy as np\n",
    "import plotly as pl\n",
    "import plotly.graph_objects as go\n",
    "import seaborn\n",
    "import pandas\n",
    "import matplotlib.pyplot as plt\n",
    "\n",
    "# (&nbsp;  )"
   ]
  },
  {
   "cell_type": "markdown",
   "id": "eaa04732",
   "metadata": {},
   "source": [
    "# Pumped Hydro Storage (Hydroelectric power (**HEP**))\n",
    "\n",
    "## Hydroelectric power Generation\n",
    "\n",
    "* Electricity produced from generators driven by water turbines that convert energy in fast flowing water to mechanical energy.\n",
    "* Second biggest generator of energy in Scotland behind onshore windfarms.\n",
    "* Typically involve building a dam across a valley to create a reservoir to store water, which is released when required.\n"
   ]
  },
  {
   "cell_type": "markdown",
   "id": "66fc92ff",
   "metadata": {},
   "source": [
    "\n"
   ]
  },
  {
   "cell_type": "code",
   "execution_count": null,
   "id": "3b1e6ce4",
   "metadata": {},
   "outputs": [],
   "source": [
    "def return_stored_kinetic_energy_E(I_moment_inertia, w_omega_angular_velocity):\n",
    "    return 1/2 * I_moment_inertia * (w_omega_angular_velocity ** 2)\n",
    "\n",
    "def return_moment_of_inertia_for_cylinder_disc_flywheel_I(m_rotor_mass, r_radius_flywheel):\n",
    "    return 1/2 * m_rotor_mass * (r_radius_flywheel ** 2)\n",
    "\n",
    "def return_moment_of_inertia_for_cylinder_disc_flywheel_I_design(m_rotor_mass, r_radius_flywheel, k_shape_factor):\n",
    "return k_shape_factor * m_rotor_mass * (r_radius_flywheel ** 2)"
   ]
  },
  {
   "cell_type": "code",
   "execution_count": null,
   "id": "b5b3f532",
   "metadata": {},
   "outputs": [],
   "source": []
  },
  {
   "cell_type": "code",
   "execution_count": null,
   "id": "68a97bee",
   "metadata": {},
   "outputs": [],
   "source": []
  },
  {
   "cell_type": "code",
   "execution_count": null,
   "id": "a7401f28",
   "metadata": {},
   "outputs": [],
   "source": []
  }
 ],
 "metadata": {
  "kernelspec": {
   "display_name": "Python 3 (ipykernel)",
   "language": "python",
   "name": "python3"
  },
  "language_info": {
   "codemirror_mode": {
    "name": "ipython",
    "version": 3
   },
   "file_extension": ".py",
   "mimetype": "text/x-python",
   "name": "python",
   "nbconvert_exporter": "python",
   "pygments_lexer": "ipython3",
   "version": "3.9.12"
  },
  "toc": {
   "base_numbering": 1,
   "nav_menu": {},
   "number_sections": true,
   "sideBar": true,
   "skip_h1_title": false,
   "title_cell": "Table of Contents",
   "title_sidebar": "Contents",
   "toc_cell": false,
   "toc_position": {},
   "toc_section_display": true,
   "toc_window_display": false
  },
  "varInspector": {
   "cols": {
    "lenName": 16,
    "lenType": 16,
    "lenVar": 40
   },
   "kernels_config": {
    "python": {
     "delete_cmd_postfix": "",
     "delete_cmd_prefix": "del ",
     "library": "var_list.py",
     "varRefreshCmd": "print(var_dic_list())"
    },
    "r": {
     "delete_cmd_postfix": ") ",
     "delete_cmd_prefix": "rm(",
     "library": "var_list.r",
     "varRefreshCmd": "cat(var_dic_list()) "
    }
   },
   "types_to_exclude": [
    "module",
    "function",
    "builtin_function_or_method",
    "instance",
    "_Feature"
   ],
   "window_display": false
  }
 },
 "nbformat": 4,
 "nbformat_minor": 5
}
