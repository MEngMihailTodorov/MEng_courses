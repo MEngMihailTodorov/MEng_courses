{
 "cells": [
  {
   "cell_type": "markdown",
   "metadata": {
    "id": "HFA4cUHXIIru"
   },
   "source": [
    "# FEA\n",
    "Worked example - linear elastic bar in 1D"
   ]
  },
  {
   "cell_type": "markdown",
   "metadata": {
    "id": "lewTuLVom9HX"
   },
   "source": [
    "Import some libraries needed for numerical computing and plotting"
   ]
  },
  {
   "cell_type": "code",
   "execution_count": 1,
   "metadata": {
    "id": "vrR1t2uF8It5"
   },
   "outputs": [],
   "source": [
    "import numpy as np\n",
    "import matplotlib.pyplot as plt"
   ]
  },
  {
   "cell_type": "markdown",
   "metadata": {},
   "source": [
    "Stiffness matrix for a single element e, Ke"
   ]
  },
  {
   "cell_type": "code",
   "execution_count": 22,
   "metadata": {},
   "outputs": [],
   "source": [
    "def calculate_Ke(EI, le):\n",
    "    return (EI / (le*le*le)) * np.array([[12, 6*le, -12, 6*le], \n",
    "                                     [6*le, 4*le*le, -6*le, 2*le*le], \n",
    "                                     [-12, -6*le, 12, -6*le], \n",
    "                                     [6*le, 2*le*le, -6*le, 4*le*le]]) / 1000\n",
    "def calculate_fe(f, le):\n",
    "    return f * le/2 * np.array([[1], [le/6], [1], [-le/6]])\n",
    "\n",
    "def calculate_shape_function(epsilon, le):\n",
    "    return np.array([[1/4*(2 + epsilon)*((1 - epsilon)**2)],\n",
    "                     [le/8*((1 - epsilon)**2)*(1 + epsilon)],\n",
    "                     [1/4*(2 - epsilon)*((1 + epsilon)**2)],\n",
    "                     [le/8*((1 + epsilon)**2)*(epsilon - 1)]])"
   ]
  },
  {
   "cell_type": "code",
   "execution_count": 29,
   "metadata": {},
   "outputs": [
    {
     "name": "stdout",
     "output_type": "stream",
     "text": [
      "[[ 0.234375  0.9375   -0.234375  0.9375  ]\n",
      " [ 0.9375    5.       -0.9375    2.5     ]\n",
      " [-0.234375 -0.9375    0.234375 -0.9375  ]\n",
      " [ 0.9375    2.5      -0.9375    5.      ]]\n",
      "\n",
      "[[-4.        ]\n",
      " [-5.33333333]\n",
      " [-4.        ]\n",
      " [ 5.33333333]]\n",
      "\n",
      "[[ 1.]\n",
      " [ 0.]\n",
      " [ 0.]\n",
      " [-0.]]\n",
      "\n",
      "[[10.]\n",
      " [ 0.]\n",
      " [ 0.]\n",
      " [-0.]]\n"
     ]
    }
   ],
   "source": [
    "EI = 10000\n",
    "le = 8\n",
    "f = -1\n",
    "epsilon = -1\n",
    "point_load = 10\n",
    "print(calculate_Ke(EI, le))\n",
    "print()\n",
    "print(calculate_fe(f, le))\n",
    "print()\n",
    "shape_function = calculate_shape_function(epsilon, le)\n",
    "print(shape_function)\n",
    "force_vector_point_load = point_load * shape_function\n",
    "print()\n",
    "print(force_vector_point_load)"
   ]
  },
  {
   "cell_type": "markdown",
   "metadata": {
    "id": "tPcWK00DF0-0"
   },
   "source": [
    "Function to compute the element stiffness matrix $\\mathbf{K}^e =\\dfrac{A^eE^e}{l^e}\n",
    "\t \\begin{bmatrix}\n",
    "\t 1\t& -1 \\\\\n",
    "\t -1\t&\t1\n",
    "\t \\end{bmatrix}$"
   ]
  },
  {
   "cell_type": "code",
   "execution_count": 4,
   "metadata": {
    "id": "0LxSyp5B7QQy"
   },
   "outputs": [],
   "source": [
    "  def get_Ke(Ae, Ee, le):\n",
    "    return  (Ae * Ee / le) * np.array([[1., -1.], [-1., 1.]])"
   ]
  },
  {
   "cell_type": "markdown",
   "metadata": {
    "id": "xtZvEPaQF6ic"
   },
   "source": [
    "Function to compute the element body force vector $\\mathbf{f}^e_\\Omega = \\dfrac{l^e}{6}\n",
    "\t \\begin{bmatrix}\n",
    "\t 2\t& 1 \\\\\n",
    "\t 1\t&\t2\n",
    "\t \\end{bmatrix}\n",
    "\t \t \\begin{bmatrix}\n",
    "\t b_1^e \\\\ b_2^e\n",
    "\t \\end{bmatrix}$"
   ]
  },
  {
   "cell_type": "code",
   "execution_count": 5,
   "metadata": {
    "id": "Rvf95VnWEl1c"
   },
   "outputs": [],
   "source": [
    "def get_fe_omega(le, b1, b2):\n",
    "  return (le / 6.) * np.array([[2., 1.], [1., 2.]]).dot(np.array([[b1], [b2]]))"
   ]
  },
  {
   "cell_type": "markdown",
   "metadata": {
    "id": "ckEtmXhsF-Q1"
   },
   "source": [
    "Function to return the global dofs for the element"
   ]
  },
  {
   "cell_type": "code",
   "execution_count": 6,
   "metadata": {
    "id": "qWVXhPY6Ew-j"
   },
   "outputs": [],
   "source": [
    "def get_dof_index(e):\n",
    "  return [e, e + 1]"
   ]
  },
  {
   "cell_type": "markdown",
   "metadata": {
    "id": "ygS6J4Y0GFv_"
   },
   "source": [
    "Compute the strain from the displacement, $\\dfrac{\\mathsf{d}u^e(x)}{\\mathsf{d} x} = \\mathbf{B}^e \\mathbf{d}^e$"
   ]
  },
  {
   "cell_type": "code",
   "execution_count": 7,
   "metadata": {
    "id": "SHAVnsSFFstO"
   },
   "outputs": [],
   "source": [
    "  def get_strain_e(le, de):\n",
    "    return  (1. / le) * np.array([-1., 1.]).dot(de)"
   ]
  },
  {
   "cell_type": "markdown",
   "metadata": {
    "id": "R4O-qVJGGN2_"
   },
   "source": [
    "Define the material properties and the loading"
   ]
  },
  {
   "cell_type": "code",
   "execution_count": 8,
   "metadata": {
    "id": "1c4AlzhM8FVD"
   },
   "outputs": [],
   "source": [
    "E = 8.   # Young's  modulus\n",
    "l = 4.   # length of bar\n",
    "A = 2.   # cross sectional area\n",
    "\n",
    "b = 3.   # body force\n",
    "t_bar = 1.   # applied traction"
   ]
  },
  {
   "cell_type": "markdown",
   "metadata": {
    "id": "d5NgmkWJGTIG"
   },
   "source": [
    "Determine the coordinates of the nodes $x$ based on the number of elements. Assume uniform spacing of the nodes."
   ]
  },
  {
   "cell_type": "code",
   "execution_count": 9,
   "metadata": {
    "id": "YuFQgnigEVYd"
   },
   "outputs": [],
   "source": [
    "n_el = 2   # number of elements\n",
    "n_np = n_el + 1 # number of nodal points\n",
    "x = np.linspace(0, l, n_np) # nodal coordinates\n",
    "le = l / n_el  # length of element"
   ]
  },
  {
   "cell_type": "code",
   "execution_count": 10,
   "metadata": {},
   "outputs": [
    {
     "name": "stdout",
     "output_type": "stream",
     "text": [
      "2\n",
      "3\n",
      "[0. 2. 4.]\n"
     ]
    }
   ],
   "source": [
    "print(n_el)\n",
    "print(n_np)\n",
    "print(x)"
   ]
  },
  {
   "cell_type": "markdown",
   "metadata": {
    "id": "jW_jhG4HGvLI"
   },
   "source": [
    "Initialise the global stiffness matrix $\\mathbf{K}$ and the force vector $\\mathbf{f}$"
   ]
  },
  {
   "cell_type": "code",
   "execution_count": 11,
   "metadata": {
    "id": "wbVN2M7QEYwJ"
   },
   "outputs": [],
   "source": [
    "K = np.zeros((n_np, n_np))\n",
    "f = np.zeros((n_np, 1))"
   ]
  },
  {
   "cell_type": "code",
   "execution_count": 12,
   "metadata": {},
   "outputs": [
    {
     "name": "stdout",
     "output_type": "stream",
     "text": [
      "[[0. 0. 0.]\n",
      " [0. 0. 0.]\n",
      " [0. 0. 0.]]\n",
      "[[0.]\n",
      " [0.]\n",
      " [0.]]\n"
     ]
    }
   ],
   "source": [
    "print(K)\n",
    "print(f)"
   ]
  },
  {
   "cell_type": "markdown",
   "metadata": {
    "id": "rBj2xhv2G9YL"
   },
   "source": [
    "Loop over all the elements and assemble $\\mathbf{K}$ and $\\mathbf{f}$ from the element contributions"
   ]
  },
  {
   "cell_type": "code",
   "execution_count": null,
   "metadata": {},
   "outputs": [],
   "source": []
  },
  {
   "cell_type": "code",
   "execution_count": 13,
   "metadata": {
    "id": "Ig0D0uzbEb32"
   },
   "outputs": [
    {
     "name": "stdout",
     "output_type": "stream",
     "text": [
      "[[0. 0. 0.]\n",
      " [0. 0. 0.]\n",
      " [0. 0. 0.]]\n",
      "[0, 1]\n",
      "[[ 8. -8.]\n",
      " [-8.  8.]]\n",
      "[[ 8. -8.  0.]\n",
      " [-8.  8.  0.]\n",
      " [ 0.  0.  0.]]\n",
      "[1, 2]\n",
      "[[ 8. -8.]\n",
      " [-8.  8.]]\n",
      "[[ 8. -8.  0.]\n",
      " [-8. 16. -8.]\n",
      " [ 0. -8.  8.]]\n"
     ]
    }
   ],
   "source": [
    "print(K)\n",
    "for element in range(n_el):\n",
    "    dof_index = get_dof_index(element)\n",
    "    print(dof_index)\n",
    "    print(get_Ke(A, E, le))\n",
    "    K[np.ix_(dof_index, dof_index)] +=  get_Ke(A, E, le)\n",
    "    print(K)\n",
    "    f[np.ix_(dof_index)] += get_fe_omega(le, b, b )"
   ]
  },
  {
   "cell_type": "markdown",
   "metadata": {
    "id": "kZtt2ewrHLMx"
   },
   "source": [
    "Add the applied traction"
   ]
  },
  {
   "cell_type": "code",
   "execution_count": 14,
   "metadata": {
    "id": "gZUe5HOiEfp4"
   },
   "outputs": [],
   "source": [
    "f[-1] += t_bar * A "
   ]
  },
  {
   "cell_type": "markdown",
   "metadata": {
    "id": "VP_ureYgHP6E"
   },
   "source": [
    "Apply the boundary conditions and solve the problem"
   ]
  },
  {
   "cell_type": "code",
   "execution_count": 15,
   "metadata": {
    "id": "AHbT97ejEkBR"
   },
   "outputs": [],
   "source": [
    "free_dof = np.arange(1,n_np)\n",
    "K_free = K[np.ix_(free_dof, free_dof)]\n",
    "f_free = f[np.ix_(free_dof)]\n",
    "\n",
    "# solve the linear system\n",
    "d_free = np.linalg.solve(K_free,f_free)\n",
    "d = np.zeros((n_np, 1))\n",
    "d[1:] = d_free"
   ]
  },
  {
   "cell_type": "code",
   "execution_count": 16,
   "metadata": {},
   "outputs": [
    {
     "name": "stdout",
     "output_type": "stream",
     "text": [
      "[1 2]\n"
     ]
    }
   ],
   "source": [
    "print(free_dof)"
   ]
  },
  {
   "cell_type": "markdown",
   "metadata": {
    "id": "Qa9wovRVHRFV"
   },
   "source": [
    "Postprocessing. \n",
    "Compute the reaction force.\n",
    "Display the structure of $\\mathbf{K}$.\n",
    "Plot the stress distribution.\n",
    "\n",
    "The exact solution is given by $u^{\\text{ex}} = -\\dfrac{3}{32}x^2 + \\dfrac{7}{8}x$ and \n",
    "$\\sigma^\\text{ex} = -\\dfrac{3}{2}x + 7 = \\bar{t} + \\dfrac{b(l-x)}{A}$."
   ]
  },
  {
   "cell_type": "code",
   "execution_count": 17,
   "metadata": {
    "colab": {
     "base_uri": "https://localhost:8080/",
     "height": 812
    },
    "id": "Cufab0CEFeT5",
    "outputId": "0d1ff826-01a7-48c4-ac5d-ecf9a9406d2c"
   },
   "outputs": [
    {
     "name": "stdout",
     "output_type": "stream",
     "text": [
      "Reaction force  [-14.]\n"
     ]
    },
    {
     "data": {
      "image/png": "[encoded data removed]",
      "text/plain": [
       "<Figure size 640x480 with 1 Axes>"
      ]
     },
     "metadata": {},
     "output_type": "display_data"
    },
    {
     "data": {
      "image/png": "[encoded data removed]",
      "text/plain": [
       "<Figure size 640x480 with 1 Axes>"
      ]
     },
     "metadata": {},
     "output_type": "display_data"
    },
    {
     "data": {
      "image/png": "[encoded data removed]",
      "text/plain": [
       "<Figure size 640x480 with 1 Axes>"
      ]
     },
     "metadata": {},
     "output_type": "display_data"
    }
   ],
   "source": [
    "r = K[0,:].dot(d) - f[0]\n",
    "\n",
    "print('Reaction force ', r)\n",
    "\n",
    "x_ex = np.linspace(0, l, 100*n_el) # nodal coordinates\n",
    "u_ex = -(3/32)*np.power(x_ex,2) + (7/8)*x_ex\n",
    "stress_ex = (-3/2)*x_ex + 7\n",
    "\n",
    "line1, = plt.plot(x, d, label = '$u^h$', marker = 'o')\n",
    "line2, = plt.plot(x_ex, u_ex, label = '$u^\\mathrm{ex}$')\n",
    "plt.xlabel('$x$')\n",
    "plt.ylabel('$u$')\n",
    "plt.legend(handles=[line1, line2])\n",
    "plt.grid(True)\n",
    "plt.show()\n",
    "\n",
    "plt.spy(K)\n",
    "plt.show()\n",
    "\n",
    "x_post = np.zeros((2 * n_el))\n",
    "x_post[0::2] = x[0:-1]\n",
    "x_post[1::2] = x[1:]\n",
    "stress_post = np.zeros((2 * n_el))\n",
    "# compute the strain in each element\n",
    "for ee in range(n_el):\n",
    "    dof_index = get_dof_index(ee)\n",
    "    index = [2 * ee, 2 * ee + 1]\n",
    "    de = d[dof_index]\n",
    "    stress_e = E * get_strain_e(le, de)\n",
    "    stress_post[index] = stress_e\n",
    "\n",
    "   \n",
    "line1, = plt.plot(x_post, stress_post, label = '$\\sigma^h$', marker = 'o')\n",
    "line2, = plt.plot(x_ex, stress_ex, label = '$\\sigma^\\mathrm{ex}$')\n",
    "plt.legend(handles=[line1, line2])\n",
    "plt.xlabel('$x$')\n",
    "plt.ylabel('$\\sigma$')\n",
    "plt.grid(True)\n",
    "plt.show()"
   ]
  },
  {
   "cell_type": "code",
   "execution_count": null,
   "metadata": {},
   "outputs": [],
   "source": []
  },
  {
   "cell_type": "code",
   "execution_count": null,
   "metadata": {},
   "outputs": [],
   "source": []
  },
  {
   "cell_type": "code",
   "execution_count": null,
   "metadata": {},
   "outputs": [],
   "source": []
  },
  {
   "cell_type": "code",
   "execution_count": null,
   "metadata": {},
   "outputs": [],
   "source": []
  },
  {
   "cell_type": "code",
   "execution_count": null,
   "metadata": {},
   "outputs": [],
   "source": []
  }
 ],
 "metadata": {
  "colab": {
   "provenance": []
  },
  "kernelspec": {
   "display_name": "Python 3 (ipykernel)",
   "language": "python",
   "name": "python3"
  },
  "language_info": {
   "codemirror_mode": {
    "name": "ipython",
    "version": 3
   },
   "file_extension": ".py",
   "mimetype": "text/x-python",
   "name": "python",
   "nbconvert_exporter": "python",
   "pygments_lexer": "ipython3",
   "version": "3.9.12"
  },
  "toc": {
   "base_numbering": 1,
   "nav_menu": {},
   "number_sections": true,
   "sideBar": true,
   "skip_h1_title": false,
   "title_cell": "Table of Contents",
   "title_sidebar": "Contents",
   "toc_cell": false,
   "toc_position": {},
   "toc_section_display": true,
   "toc_window_display": false
  },
  "varInspector": {
   "cols": {
    "lenName": 16,
    "lenType": 16,
    "lenVar": 40
   },
   "kernels_config": {
    "python": {
     "delete_cmd_postfix": "",
     "delete_cmd_prefix": "del ",
     "library": "var_list.py",
     "varRefreshCmd": "print(var_dic_list())"
    },
    "r": {
     "delete_cmd_postfix": ") ",
     "delete_cmd_prefix": "rm(",
     "library": "var_list.r",
     "varRefreshCmd": "cat(var_dic_list()) "
    }
   },
   "types_to_exclude": [
    "module",
    "function",
    "builtin_function_or_method",
    "instance",
    "_Feature"
   ],
   "window_display": false
  }
 },
 "nbformat": 4,
 "nbformat_minor": 1
}
