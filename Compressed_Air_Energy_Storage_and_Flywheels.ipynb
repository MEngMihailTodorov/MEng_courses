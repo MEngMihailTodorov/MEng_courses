{
 "cells": [
  {
   "cell_type": "code",
   "execution_count": 1,
   "id": "04ebcefb",
   "metadata": {},
   "outputs": [
    {
     "data": {
      "text/html": [
       "<style>.container { width:100% !important; }</style>"
      ],
      "text/plain": [
       "<IPython.core.display.HTML object>"
      ]
     },
     "metadata": {},
     "output_type": "display_data"
    }
   ],
   "source": [
    "from IPython.display import display, HTML\n",
    "display(HTML(\"<style>.container { width:100% !important; }</style>\"))"
   ]
  },
  {
   "cell_type": "code",
   "execution_count": null,
   "id": "44e9d85c",
   "metadata": {},
   "outputs": [],
   "source": [
    "from abc import ABC, abstractmethod\n",
    "from math import pi\n",
    "\n",
    "import math\n",
    "import numpy as np\n",
    "import plotly as pl\n",
    "import plotly.graph_objects as go\n",
    "import seaborn\n",
    "import pandas\n",
    "import matplotlib.pyplot as plt\n",
    "\n",
    "# (&nbsp;  )"
   ]
  },
  {
   "cell_type": "markdown",
   "id": "eaa04732",
   "metadata": {},
   "source": [
    "# Compressed Air Energy Storage and Flywheels\n",
    "\n",
    "## CAES - Compressed Air Energy Storage\n",
    "* **CAES** - Compressed air energy storage uses compressed air at pressure higher than atmospheric.\n",
    "* Used in energy processes as a medium to transport heat and energy. \n",
    "* Air can be compressed and stored in a void using electrical energy.\n",
    "* When the energy is required the stored air can be released and used to generate energy.\n",
    "* Capacity ranges from <span style='color:magenta'>10 kW to 100 MW</span>.\n",
    "\n",
    "1. **CHARGE** - Air is pressurized into a special container (or underground reservoir). This occurs in low demand/high supply cycles. Heat is created during compression.\n",
    "2. **STORAGE** - Air is being stored in the container until its uses are required.\n",
    "3. **DISCHARGE** - Air is expanded in air turbines using heat which is then coupled with electricity generators for when demand peaks.\n",
    "\n",
    "\n",
    "### CAES Advantages\n",
    "1. Energy savings - increase efficiency and reduce costs.\n",
    "2. Low maintenance - can help keep costs down.\n",
    "3. High capacity at low costs - can meet large scale needs.\n",
    "4. Increased stability.\n",
    "5. Improved air quality (reduction in CO2 emissions in contrast to other sources).\n",
    "6. Can be integrated to renewable energy (wind/solar).\n",
    "\n",
    "### CAES Disadvantages\n",
    "1. Heat can be a source of ignition when injected into underground reservoirs (which may have the presence of hydrocarbons).\n",
    "2. If using fossil fuels during the storage process then there is an increase in emissions and also costs.\n",
    "3. Heat is lost which can reduce efficiency (but this can be recovered too).\n",
    "\n",
    "\n",
    "### Types of CAES\n",
    "\n",
    "1. Diabatic - uses heat during compression with intercoolers. \n",
    "* Utilises the heat during compression with intercoolers.\n",
    "* Compressed air stored underground (100 bars) in a salt cavern.\n",
    "* Use air in a hybrid system to enhance combustion process for natural gas plants.\n",
    "\n",
    "2. Adiabatic - use thermal energy storage.\n",
    "* Designed to store heat using compression stage using thermal energy storage system.\n",
    "* Elimination of heat from the air stream leads to higher final pressures, resulting in higher energy densities.\n",
    "\n",
    "3. Isothermal - ambient temperature storage (controlled).\n",
    "* Isothermal = constant temperature.\n",
    "* Heat stored near ambient temperatures.\n",
    "* No combustion required - greener technology.\n",
    "\n",
    "## Boyle's Law - Pressure Volume Law\n",
    "* The pressure of a gas increases as its volume decreases. Therefore, the volume of the gas varies inversely with absolute pressure.<span style='color:purple'> It is a perfect gas where temperature and mass are constant</span>.\n",
    "* PV = Constant \n",
    "\n",
    "## Charles' Law - Temperature Volume Law\n",
    "* The volume of a fixed amount of gas at a constant pressure is directly proportional to the temperature (in Kelvin) of the gas.\n",
    "* V/T = Constant\n",
    "\n",
    "## Economics\n",
    "* CAES plants are typically 400 to 500 $/kW.\n"
   ]
  },
  {
   "cell_type": "markdown",
   "id": "66fc92ff",
   "metadata": {},
   "source": [
    "# Flywheels\n",
    "* Mechanical energy storage.\n",
    "* Spinning mass secured within a vessel at **low ambient pressure** -> this **reduces drag** (helping to maintain momentum and generate electricity for longer).\n",
    "* Energy stored in rotating mass and kinetic energy stored as rotational energy.\n",
    "* Vacuum container can reduce friction losses.\n",
    "* Classified as two speed ratings: Low speed (<span style='color:magenta'> 10,000 revolutions per minute (RPM) and high speed (10,000 to 100,000 RPM </span>).\n",
    "* Two modes of operation via electrical device !!!!!\n",
    "1) Motor or \n",
    "2) Generator\n",
    "\n",
    "* When acting as a motor, electrical energy is used to turn flywheel.\n",
    "* Then when required energy is generated for electrical energy - this causes the flywheel to slow.\n",
    "\n",
    "## Flywheel Advantages\n",
    "\n",
    "* High energy-efficiency.\n",
    "* Can help to smooth varying supply of electricity from grid or renewables.\n",
    "* Almost immediate delivery.\n",
    "* Strong power.\n",
    "* Requires little maintenance.\n",
    "* Long service life.\n",
    "* Environmentally friendly.\n",
    "* Simple and safe.\n",
    "* Flexible in the rate of charging and/or discharging.\n",
    "\n",
    "## Flywheel Disadvantages\n",
    "\n",
    "* The need for permanent magnets in the rotor.\n",
    "* May require costly cryogenic cooling devices.\n",
    "* Cryogenic cooling also reduces the overall energy storage efficiency.\n",
    "* Deep discharging cannot be achieved.\n",
    "* High capital cost, whether due to the materials’ cost for the light rotational mass, i.e., at high rpm, or for the magnetic bearing using heavy rotational masses.\n",
    "* High self-discharge rate and low energy density.\n",
    "\n"
   ]
  },
  {
   "cell_type": "code",
   "execution_count": null,
   "id": "3b1e6ce4",
   "metadata": {},
   "outputs": [],
   "source": [
    "def return_stored_kinetic_energy_E(I_moment_inertia, w_omega_angular_velocity):\n",
    "    return 1/2 * I_moment_inertia * (w_omega_angular_velocity ** 2)\n",
    "\n",
    "def return_moment_of_inertia_for_cylinder_disc_flywheel_I(m_rotor_mass, r_radius_flywheel):\n",
    "    return 1/2 * m_rotor_mass * (r_radius_flywheel ** 2)\n",
    "\n",
    "def return_moment_of_inertia_for_cylinder_disc_flywheel_I_design(m_rotor_mass, r_radius_flywheel, k_shape_factor):\n",
    "return k_shape_factor * m_rotor_mass * (r_radius_flywheel ** 2)"
   ]
  },
  {
   "cell_type": "code",
   "execution_count": null,
   "id": "b5b3f532",
   "metadata": {},
   "outputs": [],
   "source": []
  },
  {
   "cell_type": "code",
   "execution_count": null,
   "id": "68a97bee",
   "metadata": {},
   "outputs": [],
   "source": []
  },
  {
   "cell_type": "code",
   "execution_count": null,
   "id": "a7401f28",
   "metadata": {},
   "outputs": [],
   "source": []
  }
 ],
 "metadata": {
  "kernelspec": {
   "display_name": "Python 3 (ipykernel)",
   "language": "python",
   "name": "python3"
  },
  "language_info": {
   "codemirror_mode": {
    "name": "ipython",
    "version": 3
   },
   "file_extension": ".py",
   "mimetype": "text/x-python",
   "name": "python",
   "nbconvert_exporter": "python",
   "pygments_lexer": "ipython3",
   "version": "3.9.12"
  },
  "toc": {
   "base_numbering": 1,
   "nav_menu": {},
   "number_sections": true,
   "sideBar": true,
   "skip_h1_title": false,
   "title_cell": "Table of Contents",
   "title_sidebar": "Contents",
   "toc_cell": false,
   "toc_position": {},
   "toc_section_display": true,
   "toc_window_display": false
  },
  "varInspector": {
   "cols": {
    "lenName": 16,
    "lenType": 16,
    "lenVar": 40
   },
   "kernels_config": {
    "python": {
     "delete_cmd_postfix": "",
     "delete_cmd_prefix": "del ",
     "library": "var_list.py",
     "varRefreshCmd": "print(var_dic_list())"
    },
    "r": {
     "delete_cmd_postfix": ") ",
     "delete_cmd_prefix": "rm(",
     "library": "var_list.r",
     "varRefreshCmd": "cat(var_dic_list()) "
    }
   },
   "types_to_exclude": [
    "module",
    "function",
    "builtin_function_or_method",
    "instance",
    "_Feature"
   ],
   "window_display": false
  }
 },
 "nbformat": 4,
 "nbformat_minor": 5
}
